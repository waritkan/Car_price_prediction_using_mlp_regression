{
  "nbformat": 4,
  "nbformat_minor": 0,
  "metadata": {
    "colab": {
      "provenance": []
    },
    "kernelspec": {
      "name": "python3",
      "display_name": "Python 3"
    },
    "language_info": {
      "name": "python"
    }
  },
  "cells": [
    {
      "cell_type": "markdown",
      "source": [
        "# **Car price prediction using MLP regression with Tensorflow**\n",
        "\n",
        "\n",
        "\n"
      ],
      "metadata": {
        "id": "aRq2wOAAdANj"
      }
    },
    {
      "cell_type": "code",
      "execution_count": 1,
      "metadata": {
        "id": "abqsHN9gc2IR",
        "colab": {
          "base_uri": "https://localhost:8080/"
        },
        "outputId": "e4e38e78-8fb4-42dd-c511-ca55779bf2f3"
      },
      "outputs": [
        {
          "output_type": "stream",
          "name": "stdout",
          "text": [
            "Collecting opendatasets\n",
            "  Downloading opendatasets-0.1.22-py3-none-any.whl (15 kB)\n",
            "Requirement already satisfied: tqdm in /usr/local/lib/python3.10/dist-packages (from opendatasets) (4.66.4)\n",
            "Requirement already satisfied: kaggle in /usr/local/lib/python3.10/dist-packages (from opendatasets) (1.6.14)\n",
            "Requirement already satisfied: click in /usr/local/lib/python3.10/dist-packages (from opendatasets) (8.1.7)\n",
            "Requirement already satisfied: six>=1.10 in /usr/local/lib/python3.10/dist-packages (from kaggle->opendatasets) (1.16.0)\n",
            "Requirement already satisfied: certifi>=2023.7.22 in /usr/local/lib/python3.10/dist-packages (from kaggle->opendatasets) (2024.2.2)\n",
            "Requirement already satisfied: python-dateutil in /usr/local/lib/python3.10/dist-packages (from kaggle->opendatasets) (2.8.2)\n",
            "Requirement already satisfied: requests in /usr/local/lib/python3.10/dist-packages (from kaggle->opendatasets) (2.31.0)\n",
            "Requirement already satisfied: python-slugify in /usr/local/lib/python3.10/dist-packages (from kaggle->opendatasets) (8.0.4)\n",
            "Requirement already satisfied: urllib3 in /usr/local/lib/python3.10/dist-packages (from kaggle->opendatasets) (2.0.7)\n",
            "Requirement already satisfied: bleach in /usr/local/lib/python3.10/dist-packages (from kaggle->opendatasets) (6.1.0)\n",
            "Requirement already satisfied: webencodings in /usr/local/lib/python3.10/dist-packages (from bleach->kaggle->opendatasets) (0.5.1)\n",
            "Requirement already satisfied: text-unidecode>=1.3 in /usr/local/lib/python3.10/dist-packages (from python-slugify->kaggle->opendatasets) (1.3)\n",
            "Requirement already satisfied: charset-normalizer<4,>=2 in /usr/local/lib/python3.10/dist-packages (from requests->kaggle->opendatasets) (3.3.2)\n",
            "Requirement already satisfied: idna<4,>=2.5 in /usr/local/lib/python3.10/dist-packages (from requests->kaggle->opendatasets) (3.7)\n",
            "Installing collected packages: opendatasets\n",
            "Successfully installed opendatasets-0.1.22\n"
          ]
        }
      ],
      "source": [
        "!pip install opendatasets"
      ]
    },
    {
      "cell_type": "code",
      "source": [
        "!pip install keras-tuner --upgrade"
      ],
      "metadata": {
        "colab": {
          "base_uri": "https://localhost:8080/"
        },
        "id": "rIoFy0CfIBxI",
        "outputId": "cf36054e-e11b-4812-e108-8166a39e7e4f"
      },
      "execution_count": 2,
      "outputs": [
        {
          "output_type": "stream",
          "name": "stdout",
          "text": [
            "Collecting keras-tuner\n",
            "  Downloading keras_tuner-1.4.7-py3-none-any.whl (129 kB)\n",
            "\u001b[2K     \u001b[90m━━━━━━━━━━━━━━━━━━━━━━━━━━━━━━━━━━━━━━━━\u001b[0m \u001b[32m129.1/129.1 kB\u001b[0m \u001b[31m1.5 MB/s\u001b[0m eta \u001b[36m0:00:00\u001b[0m\n",
            "\u001b[?25hRequirement already satisfied: keras in /usr/local/lib/python3.10/dist-packages (from keras-tuner) (2.15.0)\n",
            "Requirement already satisfied: packaging in /usr/local/lib/python3.10/dist-packages (from keras-tuner) (24.0)\n",
            "Requirement already satisfied: requests in /usr/local/lib/python3.10/dist-packages (from keras-tuner) (2.31.0)\n",
            "Collecting kt-legacy (from keras-tuner)\n",
            "  Downloading kt_legacy-1.0.5-py3-none-any.whl (9.6 kB)\n",
            "Requirement already satisfied: charset-normalizer<4,>=2 in /usr/local/lib/python3.10/dist-packages (from requests->keras-tuner) (3.3.2)\n",
            "Requirement already satisfied: idna<4,>=2.5 in /usr/local/lib/python3.10/dist-packages (from requests->keras-tuner) (3.7)\n",
            "Requirement already satisfied: urllib3<3,>=1.21.1 in /usr/local/lib/python3.10/dist-packages (from requests->keras-tuner) (2.0.7)\n",
            "Requirement already satisfied: certifi>=2017.4.17 in /usr/local/lib/python3.10/dist-packages (from requests->keras-tuner) (2024.2.2)\n",
            "Installing collected packages: kt-legacy, keras-tuner\n",
            "Successfully installed keras-tuner-1.4.7 kt-legacy-1.0.5\n"
          ]
        }
      ]
    },
    {
      "cell_type": "code",
      "source": [
        "import opendatasets as od\n",
        "import pandas as pd\n",
        "import os\n",
        "import numpy as np\n",
        "import matplotlib\n",
        "import matplotlib.pyplot as plt\n",
        "import seaborn as sns\n",
        "import plotly.express as px\n",
        "import plotly.graph_objects as go\n",
        "from sklearn.compose import ColumnTransformer\n",
        "from sklearn.pipeline import make_pipeline\n",
        "from sklearn.preprocessing import StandardScaler\n",
        "from sklearn.preprocessing import OneHotEncoder\n",
        "from sklearn.model_selection import train_test_split"
      ],
      "metadata": {
        "id": "AUan9QF3dctN"
      },
      "execution_count": 3,
      "outputs": []
    },
    {
      "cell_type": "code",
      "source": [
        "dataset = \"https://www.kaggle.com/datasets/deepcontractor/car-price-prediction-challenge\"\n",
        "od.download(dataset)"
      ],
      "metadata": {
        "id": "AHE3MDX5dkw9",
        "colab": {
          "base_uri": "https://localhost:8080/"
        },
        "outputId": "b4248d1b-7a59-448b-c86b-6392de594164"
      },
      "execution_count": 4,
      "outputs": [
        {
          "output_type": "stream",
          "name": "stdout",
          "text": [
            "Please provide your Kaggle credentials to download this dataset. Learn more: http://bit.ly/kaggle-creds\n",
            "Your Kaggle username: ckanwarit\n",
            "Your Kaggle Key: ··········\n",
            "Dataset URL: https://www.kaggle.com/datasets/deepcontractor/car-price-prediction-challenge\n",
            "Downloading car-price-prediction-challenge.zip to ./car-price-prediction-challenge\n"
          ]
        },
        {
          "output_type": "stream",
          "name": "stderr",
          "text": [
            "100%|██████████| 429k/429k [00:00<00:00, 46.2MB/s]"
          ]
        },
        {
          "output_type": "stream",
          "name": "stdout",
          "text": [
            "\n"
          ]
        },
        {
          "output_type": "stream",
          "name": "stderr",
          "text": [
            "\n"
          ]
        }
      ]
    },
    {
      "cell_type": "code",
      "source": [
        "df = pd.read_csv('/content/car-price-prediction-challenge/car_price_prediction.csv')\n",
        "df.sample(5)"
      ],
      "metadata": {
        "id": "NxegC6tCdxQ7",
        "colab": {
          "base_uri": "https://localhost:8080/",
          "height": 327
        },
        "outputId": "2c36567b-c1e2-41a2-9c2c-29a39bc5240d"
      },
      "execution_count": 5,
      "outputs": [
        {
          "output_type": "execute_result",
          "data": {
            "text/plain": [
              "             ID  Price Levy   Manufacturer     Model  Prod. year  Category  \\\n",
              "6032   45804899  11290    -  MERCEDES-BENZ  Sprinter        1998  Microbus   \n",
              "88     45810403   6247  760      CHEVROLET     Cruze        2010     Sedan   \n",
              "3453   45732675  14454  836        HYUNDAI    Sonata        2010     Sedan   \n",
              "6883   45793362  12544    -         TOYOTA     Prius        2008     Sedan   \n",
              "13112  45798288  14426  528        HYUNDAI   Elantra        2014     Sedan   \n",
              "\n",
              "      Leather interior Fuel type Engine volume    Mileage  Cylinders  \\\n",
              "6032                No    Diesel     2.9 Turbo  270000 km        5.0   \n",
              "88                 Yes    Petrol           1.8   40772 km        4.0   \n",
              "3453               Yes    Petrol             2  171734 km        4.0   \n",
              "6883                No    Petrol           1.5  200000 km        4.0   \n",
              "13112              Yes    Diesel           1.6   78836 km        4.0   \n",
              "\n",
              "      Gear box type Drive wheels   Doors             Wheel   Color  Airbags  \n",
              "6032         Manual         Rear  04-May  Right-hand drive   White        1  \n",
              "88        Automatic        Front  04-May        Left wheel   Black        4  \n",
              "3453      Automatic        Front  04-May        Left wheel  Silver        4  \n",
              "6883      Automatic        Front  04-May        Left wheel  Silver        6  \n",
              "13112     Automatic        Front  04-May        Left wheel  Silver        4  "
            ],
            "text/html": [
              "\n",
              "  <div id=\"df-0436d7c3-2c97-46af-be89-f707dec6e828\" class=\"colab-df-container\">\n",
              "    <div>\n",
              "<style scoped>\n",
              "    .dataframe tbody tr th:only-of-type {\n",
              "        vertical-align: middle;\n",
              "    }\n",
              "\n",
              "    .dataframe tbody tr th {\n",
              "        vertical-align: top;\n",
              "    }\n",
              "\n",
              "    .dataframe thead th {\n",
              "        text-align: right;\n",
              "    }\n",
              "</style>\n",
              "<table border=\"1\" class=\"dataframe\">\n",
              "  <thead>\n",
              "    <tr style=\"text-align: right;\">\n",
              "      <th></th>\n",
              "      <th>ID</th>\n",
              "      <th>Price</th>\n",
              "      <th>Levy</th>\n",
              "      <th>Manufacturer</th>\n",
              "      <th>Model</th>\n",
              "      <th>Prod. year</th>\n",
              "      <th>Category</th>\n",
              "      <th>Leather interior</th>\n",
              "      <th>Fuel type</th>\n",
              "      <th>Engine volume</th>\n",
              "      <th>Mileage</th>\n",
              "      <th>Cylinders</th>\n",
              "      <th>Gear box type</th>\n",
              "      <th>Drive wheels</th>\n",
              "      <th>Doors</th>\n",
              "      <th>Wheel</th>\n",
              "      <th>Color</th>\n",
              "      <th>Airbags</th>\n",
              "    </tr>\n",
              "  </thead>\n",
              "  <tbody>\n",
              "    <tr>\n",
              "      <th>6032</th>\n",
              "      <td>45804899</td>\n",
              "      <td>11290</td>\n",
              "      <td>-</td>\n",
              "      <td>MERCEDES-BENZ</td>\n",
              "      <td>Sprinter</td>\n",
              "      <td>1998</td>\n",
              "      <td>Microbus</td>\n",
              "      <td>No</td>\n",
              "      <td>Diesel</td>\n",
              "      <td>2.9 Turbo</td>\n",
              "      <td>270000 km</td>\n",
              "      <td>5.0</td>\n",
              "      <td>Manual</td>\n",
              "      <td>Rear</td>\n",
              "      <td>04-May</td>\n",
              "      <td>Right-hand drive</td>\n",
              "      <td>White</td>\n",
              "      <td>1</td>\n",
              "    </tr>\n",
              "    <tr>\n",
              "      <th>88</th>\n",
              "      <td>45810403</td>\n",
              "      <td>6247</td>\n",
              "      <td>760</td>\n",
              "      <td>CHEVROLET</td>\n",
              "      <td>Cruze</td>\n",
              "      <td>2010</td>\n",
              "      <td>Sedan</td>\n",
              "      <td>Yes</td>\n",
              "      <td>Petrol</td>\n",
              "      <td>1.8</td>\n",
              "      <td>40772 km</td>\n",
              "      <td>4.0</td>\n",
              "      <td>Automatic</td>\n",
              "      <td>Front</td>\n",
              "      <td>04-May</td>\n",
              "      <td>Left wheel</td>\n",
              "      <td>Black</td>\n",
              "      <td>4</td>\n",
              "    </tr>\n",
              "    <tr>\n",
              "      <th>3453</th>\n",
              "      <td>45732675</td>\n",
              "      <td>14454</td>\n",
              "      <td>836</td>\n",
              "      <td>HYUNDAI</td>\n",
              "      <td>Sonata</td>\n",
              "      <td>2010</td>\n",
              "      <td>Sedan</td>\n",
              "      <td>Yes</td>\n",
              "      <td>Petrol</td>\n",
              "      <td>2</td>\n",
              "      <td>171734 km</td>\n",
              "      <td>4.0</td>\n",
              "      <td>Automatic</td>\n",
              "      <td>Front</td>\n",
              "      <td>04-May</td>\n",
              "      <td>Left wheel</td>\n",
              "      <td>Silver</td>\n",
              "      <td>4</td>\n",
              "    </tr>\n",
              "    <tr>\n",
              "      <th>6883</th>\n",
              "      <td>45793362</td>\n",
              "      <td>12544</td>\n",
              "      <td>-</td>\n",
              "      <td>TOYOTA</td>\n",
              "      <td>Prius</td>\n",
              "      <td>2008</td>\n",
              "      <td>Sedan</td>\n",
              "      <td>No</td>\n",
              "      <td>Petrol</td>\n",
              "      <td>1.5</td>\n",
              "      <td>200000 km</td>\n",
              "      <td>4.0</td>\n",
              "      <td>Automatic</td>\n",
              "      <td>Front</td>\n",
              "      <td>04-May</td>\n",
              "      <td>Left wheel</td>\n",
              "      <td>Silver</td>\n",
              "      <td>6</td>\n",
              "    </tr>\n",
              "    <tr>\n",
              "      <th>13112</th>\n",
              "      <td>45798288</td>\n",
              "      <td>14426</td>\n",
              "      <td>528</td>\n",
              "      <td>HYUNDAI</td>\n",
              "      <td>Elantra</td>\n",
              "      <td>2014</td>\n",
              "      <td>Sedan</td>\n",
              "      <td>Yes</td>\n",
              "      <td>Diesel</td>\n",
              "      <td>1.6</td>\n",
              "      <td>78836 km</td>\n",
              "      <td>4.0</td>\n",
              "      <td>Automatic</td>\n",
              "      <td>Front</td>\n",
              "      <td>04-May</td>\n",
              "      <td>Left wheel</td>\n",
              "      <td>Silver</td>\n",
              "      <td>4</td>\n",
              "    </tr>\n",
              "  </tbody>\n",
              "</table>\n",
              "</div>\n",
              "    <div class=\"colab-df-buttons\">\n",
              "\n",
              "  <div class=\"colab-df-container\">\n",
              "    <button class=\"colab-df-convert\" onclick=\"convertToInteractive('df-0436d7c3-2c97-46af-be89-f707dec6e828')\"\n",
              "            title=\"Convert this dataframe to an interactive table.\"\n",
              "            style=\"display:none;\">\n",
              "\n",
              "  <svg xmlns=\"http://www.w3.org/2000/svg\" height=\"24px\" viewBox=\"0 -960 960 960\">\n",
              "    <path d=\"M120-120v-720h720v720H120Zm60-500h600v-160H180v160Zm220 220h160v-160H400v160Zm0 220h160v-160H400v160ZM180-400h160v-160H180v160Zm440 0h160v-160H620v160ZM180-180h160v-160H180v160Zm440 0h160v-160H620v160Z\"/>\n",
              "  </svg>\n",
              "    </button>\n",
              "\n",
              "  <style>\n",
              "    .colab-df-container {\n",
              "      display:flex;\n",
              "      gap: 12px;\n",
              "    }\n",
              "\n",
              "    .colab-df-convert {\n",
              "      background-color: #E8F0FE;\n",
              "      border: none;\n",
              "      border-radius: 50%;\n",
              "      cursor: pointer;\n",
              "      display: none;\n",
              "      fill: #1967D2;\n",
              "      height: 32px;\n",
              "      padding: 0 0 0 0;\n",
              "      width: 32px;\n",
              "    }\n",
              "\n",
              "    .colab-df-convert:hover {\n",
              "      background-color: #E2EBFA;\n",
              "      box-shadow: 0px 1px 2px rgba(60, 64, 67, 0.3), 0px 1px 3px 1px rgba(60, 64, 67, 0.15);\n",
              "      fill: #174EA6;\n",
              "    }\n",
              "\n",
              "    .colab-df-buttons div {\n",
              "      margin-bottom: 4px;\n",
              "    }\n",
              "\n",
              "    [theme=dark] .colab-df-convert {\n",
              "      background-color: #3B4455;\n",
              "      fill: #D2E3FC;\n",
              "    }\n",
              "\n",
              "    [theme=dark] .colab-df-convert:hover {\n",
              "      background-color: #434B5C;\n",
              "      box-shadow: 0px 1px 3px 1px rgba(0, 0, 0, 0.15);\n",
              "      filter: drop-shadow(0px 1px 2px rgba(0, 0, 0, 0.3));\n",
              "      fill: #FFFFFF;\n",
              "    }\n",
              "  </style>\n",
              "\n",
              "    <script>\n",
              "      const buttonEl =\n",
              "        document.querySelector('#df-0436d7c3-2c97-46af-be89-f707dec6e828 button.colab-df-convert');\n",
              "      buttonEl.style.display =\n",
              "        google.colab.kernel.accessAllowed ? 'block' : 'none';\n",
              "\n",
              "      async function convertToInteractive(key) {\n",
              "        const element = document.querySelector('#df-0436d7c3-2c97-46af-be89-f707dec6e828');\n",
              "        const dataTable =\n",
              "          await google.colab.kernel.invokeFunction('convertToInteractive',\n",
              "                                                    [key], {});\n",
              "        if (!dataTable) return;\n",
              "\n",
              "        const docLinkHtml = 'Like what you see? Visit the ' +\n",
              "          '<a target=\"_blank\" href=https://colab.research.google.com/notebooks/data_table.ipynb>data table notebook</a>'\n",
              "          + ' to learn more about interactive tables.';\n",
              "        element.innerHTML = '';\n",
              "        dataTable['output_type'] = 'display_data';\n",
              "        await google.colab.output.renderOutput(dataTable, element);\n",
              "        const docLink = document.createElement('div');\n",
              "        docLink.innerHTML = docLinkHtml;\n",
              "        element.appendChild(docLink);\n",
              "      }\n",
              "    </script>\n",
              "  </div>\n",
              "\n",
              "\n",
              "<div id=\"df-3b7226a6-24a4-45d9-85af-728f25e5ccbf\">\n",
              "  <button class=\"colab-df-quickchart\" onclick=\"quickchart('df-3b7226a6-24a4-45d9-85af-728f25e5ccbf')\"\n",
              "            title=\"Suggest charts\"\n",
              "            style=\"display:none;\">\n",
              "\n",
              "<svg xmlns=\"http://www.w3.org/2000/svg\" height=\"24px\"viewBox=\"0 0 24 24\"\n",
              "     width=\"24px\">\n",
              "    <g>\n",
              "        <path d=\"M19 3H5c-1.1 0-2 .9-2 2v14c0 1.1.9 2 2 2h14c1.1 0 2-.9 2-2V5c0-1.1-.9-2-2-2zM9 17H7v-7h2v7zm4 0h-2V7h2v10zm4 0h-2v-4h2v4z\"/>\n",
              "    </g>\n",
              "</svg>\n",
              "  </button>\n",
              "\n",
              "<style>\n",
              "  .colab-df-quickchart {\n",
              "      --bg-color: #E8F0FE;\n",
              "      --fill-color: #1967D2;\n",
              "      --hover-bg-color: #E2EBFA;\n",
              "      --hover-fill-color: #174EA6;\n",
              "      --disabled-fill-color: #AAA;\n",
              "      --disabled-bg-color: #DDD;\n",
              "  }\n",
              "\n",
              "  [theme=dark] .colab-df-quickchart {\n",
              "      --bg-color: #3B4455;\n",
              "      --fill-color: #D2E3FC;\n",
              "      --hover-bg-color: #434B5C;\n",
              "      --hover-fill-color: #FFFFFF;\n",
              "      --disabled-bg-color: #3B4455;\n",
              "      --disabled-fill-color: #666;\n",
              "  }\n",
              "\n",
              "  .colab-df-quickchart {\n",
              "    background-color: var(--bg-color);\n",
              "    border: none;\n",
              "    border-radius: 50%;\n",
              "    cursor: pointer;\n",
              "    display: none;\n",
              "    fill: var(--fill-color);\n",
              "    height: 32px;\n",
              "    padding: 0;\n",
              "    width: 32px;\n",
              "  }\n",
              "\n",
              "  .colab-df-quickchart:hover {\n",
              "    background-color: var(--hover-bg-color);\n",
              "    box-shadow: 0 1px 2px rgba(60, 64, 67, 0.3), 0 1px 3px 1px rgba(60, 64, 67, 0.15);\n",
              "    fill: var(--button-hover-fill-color);\n",
              "  }\n",
              "\n",
              "  .colab-df-quickchart-complete:disabled,\n",
              "  .colab-df-quickchart-complete:disabled:hover {\n",
              "    background-color: var(--disabled-bg-color);\n",
              "    fill: var(--disabled-fill-color);\n",
              "    box-shadow: none;\n",
              "  }\n",
              "\n",
              "  .colab-df-spinner {\n",
              "    border: 2px solid var(--fill-color);\n",
              "    border-color: transparent;\n",
              "    border-bottom-color: var(--fill-color);\n",
              "    animation:\n",
              "      spin 1s steps(1) infinite;\n",
              "  }\n",
              "\n",
              "  @keyframes spin {\n",
              "    0% {\n",
              "      border-color: transparent;\n",
              "      border-bottom-color: var(--fill-color);\n",
              "      border-left-color: var(--fill-color);\n",
              "    }\n",
              "    20% {\n",
              "      border-color: transparent;\n",
              "      border-left-color: var(--fill-color);\n",
              "      border-top-color: var(--fill-color);\n",
              "    }\n",
              "    30% {\n",
              "      border-color: transparent;\n",
              "      border-left-color: var(--fill-color);\n",
              "      border-top-color: var(--fill-color);\n",
              "      border-right-color: var(--fill-color);\n",
              "    }\n",
              "    40% {\n",
              "      border-color: transparent;\n",
              "      border-right-color: var(--fill-color);\n",
              "      border-top-color: var(--fill-color);\n",
              "    }\n",
              "    60% {\n",
              "      border-color: transparent;\n",
              "      border-right-color: var(--fill-color);\n",
              "    }\n",
              "    80% {\n",
              "      border-color: transparent;\n",
              "      border-right-color: var(--fill-color);\n",
              "      border-bottom-color: var(--fill-color);\n",
              "    }\n",
              "    90% {\n",
              "      border-color: transparent;\n",
              "      border-bottom-color: var(--fill-color);\n",
              "    }\n",
              "  }\n",
              "</style>\n",
              "\n",
              "  <script>\n",
              "    async function quickchart(key) {\n",
              "      const quickchartButtonEl =\n",
              "        document.querySelector('#' + key + ' button');\n",
              "      quickchartButtonEl.disabled = true;  // To prevent multiple clicks.\n",
              "      quickchartButtonEl.classList.add('colab-df-spinner');\n",
              "      try {\n",
              "        const charts = await google.colab.kernel.invokeFunction(\n",
              "            'suggestCharts', [key], {});\n",
              "      } catch (error) {\n",
              "        console.error('Error during call to suggestCharts:', error);\n",
              "      }\n",
              "      quickchartButtonEl.classList.remove('colab-df-spinner');\n",
              "      quickchartButtonEl.classList.add('colab-df-quickchart-complete');\n",
              "    }\n",
              "    (() => {\n",
              "      let quickchartButtonEl =\n",
              "        document.querySelector('#df-3b7226a6-24a4-45d9-85af-728f25e5ccbf button');\n",
              "      quickchartButtonEl.style.display =\n",
              "        google.colab.kernel.accessAllowed ? 'block' : 'none';\n",
              "    })();\n",
              "  </script>\n",
              "</div>\n",
              "    </div>\n",
              "  </div>\n"
            ],
            "application/vnd.google.colaboratory.intrinsic+json": {
              "type": "dataframe",
              "summary": "{\n  \"name\": \"df\",\n  \"rows\": 5,\n  \"fields\": [\n    {\n      \"column\": \"ID\",\n      \"properties\": {\n        \"dtype\": \"number\",\n        \"std\": 31555,\n        \"min\": 45732675,\n        \"max\": 45810403,\n        \"num_unique_values\": 5,\n        \"samples\": [\n          45810403,\n          45798288,\n          45732675\n        ],\n        \"semantic_type\": \"\",\n        \"description\": \"\"\n      }\n    },\n    {\n      \"column\": \"Price\",\n      \"properties\": {\n        \"dtype\": \"number\",\n        \"std\": 3375,\n        \"min\": 6247,\n        \"max\": 14454,\n        \"num_unique_values\": 5,\n        \"samples\": [\n          6247,\n          14426,\n          14454\n        ],\n        \"semantic_type\": \"\",\n        \"description\": \"\"\n      }\n    },\n    {\n      \"column\": \"Levy\",\n      \"properties\": {\n        \"dtype\": \"string\",\n        \"num_unique_values\": 4,\n        \"samples\": [\n          \"760\",\n          \"528\",\n          \"-\"\n        ],\n        \"semantic_type\": \"\",\n        \"description\": \"\"\n      }\n    },\n    {\n      \"column\": \"Manufacturer\",\n      \"properties\": {\n        \"dtype\": \"string\",\n        \"num_unique_values\": 4,\n        \"samples\": [\n          \"CHEVROLET\",\n          \"TOYOTA\",\n          \"MERCEDES-BENZ\"\n        ],\n        \"semantic_type\": \"\",\n        \"description\": \"\"\n      }\n    },\n    {\n      \"column\": \"Model\",\n      \"properties\": {\n        \"dtype\": \"string\",\n        \"num_unique_values\": 5,\n        \"samples\": [\n          \"Cruze\",\n          \"Elantra\",\n          \"Sonata\"\n        ],\n        \"semantic_type\": \"\",\n        \"description\": \"\"\n      }\n    },\n    {\n      \"column\": \"Prod. year\",\n      \"properties\": {\n        \"dtype\": \"number\",\n        \"std\": 6,\n        \"min\": 1998,\n        \"max\": 2014,\n        \"num_unique_values\": 4,\n        \"samples\": [\n          2010,\n          2014,\n          1998\n        ],\n        \"semantic_type\": \"\",\n        \"description\": \"\"\n      }\n    },\n    {\n      \"column\": \"Category\",\n      \"properties\": {\n        \"dtype\": \"category\",\n        \"num_unique_values\": 2,\n        \"samples\": [\n          \"Sedan\",\n          \"Microbus\"\n        ],\n        \"semantic_type\": \"\",\n        \"description\": \"\"\n      }\n    },\n    {\n      \"column\": \"Leather interior\",\n      \"properties\": {\n        \"dtype\": \"category\",\n        \"num_unique_values\": 2,\n        \"samples\": [\n          \"Yes\",\n          \"No\"\n        ],\n        \"semantic_type\": \"\",\n        \"description\": \"\"\n      }\n    },\n    {\n      \"column\": \"Fuel type\",\n      \"properties\": {\n        \"dtype\": \"category\",\n        \"num_unique_values\": 2,\n        \"samples\": [\n          \"Petrol\",\n          \"Diesel\"\n        ],\n        \"semantic_type\": \"\",\n        \"description\": \"\"\n      }\n    },\n    {\n      \"column\": \"Engine volume\",\n      \"properties\": {\n        \"dtype\": \"string\",\n        \"num_unique_values\": 5,\n        \"samples\": [\n          \"1.8\",\n          \"1.6\"\n        ],\n        \"semantic_type\": \"\",\n        \"description\": \"\"\n      }\n    },\n    {\n      \"column\": \"Mileage\",\n      \"properties\": {\n        \"dtype\": \"string\",\n        \"num_unique_values\": 5,\n        \"samples\": [\n          \"40772 km\",\n          \"78836 km\"\n        ],\n        \"semantic_type\": \"\",\n        \"description\": \"\"\n      }\n    },\n    {\n      \"column\": \"Cylinders\",\n      \"properties\": {\n        \"dtype\": \"number\",\n        \"std\": 0.44721359549995787,\n        \"min\": 4.0,\n        \"max\": 5.0,\n        \"num_unique_values\": 2,\n        \"samples\": [\n          4.0,\n          5.0\n        ],\n        \"semantic_type\": \"\",\n        \"description\": \"\"\n      }\n    },\n    {\n      \"column\": \"Gear box type\",\n      \"properties\": {\n        \"dtype\": \"category\",\n        \"num_unique_values\": 2,\n        \"samples\": [\n          \"Automatic\",\n          \"Manual\"\n        ],\n        \"semantic_type\": \"\",\n        \"description\": \"\"\n      }\n    },\n    {\n      \"column\": \"Drive wheels\",\n      \"properties\": {\n        \"dtype\": \"category\",\n        \"num_unique_values\": 2,\n        \"samples\": [\n          \"Front\",\n          \"Rear\"\n        ],\n        \"semantic_type\": \"\",\n        \"description\": \"\"\n      }\n    },\n    {\n      \"column\": \"Doors\",\n      \"properties\": {\n        \"dtype\": \"category\",\n        \"num_unique_values\": 1,\n        \"samples\": [\n          \"04-May\"\n        ],\n        \"semantic_type\": \"\",\n        \"description\": \"\"\n      }\n    },\n    {\n      \"column\": \"Wheel\",\n      \"properties\": {\n        \"dtype\": \"category\",\n        \"num_unique_values\": 2,\n        \"samples\": [\n          \"Left wheel\"\n        ],\n        \"semantic_type\": \"\",\n        \"description\": \"\"\n      }\n    },\n    {\n      \"column\": \"Color\",\n      \"properties\": {\n        \"dtype\": \"string\",\n        \"num_unique_values\": 3,\n        \"samples\": [\n          \"White\"\n        ],\n        \"semantic_type\": \"\",\n        \"description\": \"\"\n      }\n    },\n    {\n      \"column\": \"Airbags\",\n      \"properties\": {\n        \"dtype\": \"number\",\n        \"std\": 1,\n        \"min\": 1,\n        \"max\": 6,\n        \"num_unique_values\": 3,\n        \"samples\": [\n          1\n        ],\n        \"semantic_type\": \"\",\n        \"description\": \"\"\n      }\n    }\n  ]\n}"
            }
          },
          "metadata": {},
          "execution_count": 5
        }
      ]
    },
    {
      "cell_type": "code",
      "source": [
        "df.shape"
      ],
      "metadata": {
        "id": "SWlNuQzCeHoX",
        "colab": {
          "base_uri": "https://localhost:8080/"
        },
        "outputId": "030943a7-7094-421b-f724-a01ebee3d772"
      },
      "execution_count": 6,
      "outputs": [
        {
          "output_type": "execute_result",
          "data": {
            "text/plain": [
              "(19237, 18)"
            ]
          },
          "metadata": {},
          "execution_count": 6
        }
      ]
    },
    {
      "cell_type": "code",
      "source": [
        "df.info()"
      ],
      "metadata": {
        "id": "vpFbAs_ndxTJ",
        "colab": {
          "base_uri": "https://localhost:8080/"
        },
        "outputId": "c3c18509-72e5-4d2e-b2d9-baf8d4ad0c6c"
      },
      "execution_count": 7,
      "outputs": [
        {
          "output_type": "stream",
          "name": "stdout",
          "text": [
            "<class 'pandas.core.frame.DataFrame'>\n",
            "RangeIndex: 19237 entries, 0 to 19236\n",
            "Data columns (total 18 columns):\n",
            " #   Column            Non-Null Count  Dtype  \n",
            "---  ------            --------------  -----  \n",
            " 0   ID                19237 non-null  int64  \n",
            " 1   Price             19237 non-null  int64  \n",
            " 2   Levy              19237 non-null  object \n",
            " 3   Manufacturer      19237 non-null  object \n",
            " 4   Model             19237 non-null  object \n",
            " 5   Prod. year        19237 non-null  int64  \n",
            " 6   Category          19237 non-null  object \n",
            " 7   Leather interior  19237 non-null  object \n",
            " 8   Fuel type         19237 non-null  object \n",
            " 9   Engine volume     19237 non-null  object \n",
            " 10  Mileage           19237 non-null  object \n",
            " 11  Cylinders         19237 non-null  float64\n",
            " 12  Gear box type     19237 non-null  object \n",
            " 13  Drive wheels      19237 non-null  object \n",
            " 14  Doors             19237 non-null  object \n",
            " 15  Wheel             19237 non-null  object \n",
            " 16  Color             19237 non-null  object \n",
            " 17  Airbags           19237 non-null  int64  \n",
            "dtypes: float64(1), int64(4), object(13)\n",
            "memory usage: 2.6+ MB\n"
          ]
        }
      ]
    },
    {
      "cell_type": "code",
      "source": [
        "df.describe()"
      ],
      "metadata": {
        "id": "0EGd94h8dxU6",
        "colab": {
          "base_uri": "https://localhost:8080/",
          "height": 300
        },
        "outputId": "0698379c-dfa7-4d99-996f-3013adab654c"
      },
      "execution_count": 8,
      "outputs": [
        {
          "output_type": "execute_result",
          "data": {
            "text/plain": [
              "                 ID         Price    Prod. year     Cylinders       Airbags\n",
              "count  1.923700e+04  1.923700e+04  19237.000000  19237.000000  19237.000000\n",
              "mean   4.557654e+07  1.855593e+04   2010.912824      4.582991      6.582627\n",
              "std    9.365914e+05  1.905813e+05      5.668673      1.199933      4.320168\n",
              "min    2.074688e+07  1.000000e+00   1939.000000      1.000000      0.000000\n",
              "25%    4.569837e+07  5.331000e+03   2009.000000      4.000000      4.000000\n",
              "50%    4.577231e+07  1.317200e+04   2012.000000      4.000000      6.000000\n",
              "75%    4.580204e+07  2.207500e+04   2015.000000      4.000000     12.000000\n",
              "max    4.581665e+07  2.630750e+07   2020.000000     16.000000     16.000000"
            ],
            "text/html": [
              "\n",
              "  <div id=\"df-39287719-7849-42d2-bb3a-cc2868c903b1\" class=\"colab-df-container\">\n",
              "    <div>\n",
              "<style scoped>\n",
              "    .dataframe tbody tr th:only-of-type {\n",
              "        vertical-align: middle;\n",
              "    }\n",
              "\n",
              "    .dataframe tbody tr th {\n",
              "        vertical-align: top;\n",
              "    }\n",
              "\n",
              "    .dataframe thead th {\n",
              "        text-align: right;\n",
              "    }\n",
              "</style>\n",
              "<table border=\"1\" class=\"dataframe\">\n",
              "  <thead>\n",
              "    <tr style=\"text-align: right;\">\n",
              "      <th></th>\n",
              "      <th>ID</th>\n",
              "      <th>Price</th>\n",
              "      <th>Prod. year</th>\n",
              "      <th>Cylinders</th>\n",
              "      <th>Airbags</th>\n",
              "    </tr>\n",
              "  </thead>\n",
              "  <tbody>\n",
              "    <tr>\n",
              "      <th>count</th>\n",
              "      <td>1.923700e+04</td>\n",
              "      <td>1.923700e+04</td>\n",
              "      <td>19237.000000</td>\n",
              "      <td>19237.000000</td>\n",
              "      <td>19237.000000</td>\n",
              "    </tr>\n",
              "    <tr>\n",
              "      <th>mean</th>\n",
              "      <td>4.557654e+07</td>\n",
              "      <td>1.855593e+04</td>\n",
              "      <td>2010.912824</td>\n",
              "      <td>4.582991</td>\n",
              "      <td>6.582627</td>\n",
              "    </tr>\n",
              "    <tr>\n",
              "      <th>std</th>\n",
              "      <td>9.365914e+05</td>\n",
              "      <td>1.905813e+05</td>\n",
              "      <td>5.668673</td>\n",
              "      <td>1.199933</td>\n",
              "      <td>4.320168</td>\n",
              "    </tr>\n",
              "    <tr>\n",
              "      <th>min</th>\n",
              "      <td>2.074688e+07</td>\n",
              "      <td>1.000000e+00</td>\n",
              "      <td>1939.000000</td>\n",
              "      <td>1.000000</td>\n",
              "      <td>0.000000</td>\n",
              "    </tr>\n",
              "    <tr>\n",
              "      <th>25%</th>\n",
              "      <td>4.569837e+07</td>\n",
              "      <td>5.331000e+03</td>\n",
              "      <td>2009.000000</td>\n",
              "      <td>4.000000</td>\n",
              "      <td>4.000000</td>\n",
              "    </tr>\n",
              "    <tr>\n",
              "      <th>50%</th>\n",
              "      <td>4.577231e+07</td>\n",
              "      <td>1.317200e+04</td>\n",
              "      <td>2012.000000</td>\n",
              "      <td>4.000000</td>\n",
              "      <td>6.000000</td>\n",
              "    </tr>\n",
              "    <tr>\n",
              "      <th>75%</th>\n",
              "      <td>4.580204e+07</td>\n",
              "      <td>2.207500e+04</td>\n",
              "      <td>2015.000000</td>\n",
              "      <td>4.000000</td>\n",
              "      <td>12.000000</td>\n",
              "    </tr>\n",
              "    <tr>\n",
              "      <th>max</th>\n",
              "      <td>4.581665e+07</td>\n",
              "      <td>2.630750e+07</td>\n",
              "      <td>2020.000000</td>\n",
              "      <td>16.000000</td>\n",
              "      <td>16.000000</td>\n",
              "    </tr>\n",
              "  </tbody>\n",
              "</table>\n",
              "</div>\n",
              "    <div class=\"colab-df-buttons\">\n",
              "\n",
              "  <div class=\"colab-df-container\">\n",
              "    <button class=\"colab-df-convert\" onclick=\"convertToInteractive('df-39287719-7849-42d2-bb3a-cc2868c903b1')\"\n",
              "            title=\"Convert this dataframe to an interactive table.\"\n",
              "            style=\"display:none;\">\n",
              "\n",
              "  <svg xmlns=\"http://www.w3.org/2000/svg\" height=\"24px\" viewBox=\"0 -960 960 960\">\n",
              "    <path d=\"M120-120v-720h720v720H120Zm60-500h600v-160H180v160Zm220 220h160v-160H400v160Zm0 220h160v-160H400v160ZM180-400h160v-160H180v160Zm440 0h160v-160H620v160ZM180-180h160v-160H180v160Zm440 0h160v-160H620v160Z\"/>\n",
              "  </svg>\n",
              "    </button>\n",
              "\n",
              "  <style>\n",
              "    .colab-df-container {\n",
              "      display:flex;\n",
              "      gap: 12px;\n",
              "    }\n",
              "\n",
              "    .colab-df-convert {\n",
              "      background-color: #E8F0FE;\n",
              "      border: none;\n",
              "      border-radius: 50%;\n",
              "      cursor: pointer;\n",
              "      display: none;\n",
              "      fill: #1967D2;\n",
              "      height: 32px;\n",
              "      padding: 0 0 0 0;\n",
              "      width: 32px;\n",
              "    }\n",
              "\n",
              "    .colab-df-convert:hover {\n",
              "      background-color: #E2EBFA;\n",
              "      box-shadow: 0px 1px 2px rgba(60, 64, 67, 0.3), 0px 1px 3px 1px rgba(60, 64, 67, 0.15);\n",
              "      fill: #174EA6;\n",
              "    }\n",
              "\n",
              "    .colab-df-buttons div {\n",
              "      margin-bottom: 4px;\n",
              "    }\n",
              "\n",
              "    [theme=dark] .colab-df-convert {\n",
              "      background-color: #3B4455;\n",
              "      fill: #D2E3FC;\n",
              "    }\n",
              "\n",
              "    [theme=dark] .colab-df-convert:hover {\n",
              "      background-color: #434B5C;\n",
              "      box-shadow: 0px 1px 3px 1px rgba(0, 0, 0, 0.15);\n",
              "      filter: drop-shadow(0px 1px 2px rgba(0, 0, 0, 0.3));\n",
              "      fill: #FFFFFF;\n",
              "    }\n",
              "  </style>\n",
              "\n",
              "    <script>\n",
              "      const buttonEl =\n",
              "        document.querySelector('#df-39287719-7849-42d2-bb3a-cc2868c903b1 button.colab-df-convert');\n",
              "      buttonEl.style.display =\n",
              "        google.colab.kernel.accessAllowed ? 'block' : 'none';\n",
              "\n",
              "      async function convertToInteractive(key) {\n",
              "        const element = document.querySelector('#df-39287719-7849-42d2-bb3a-cc2868c903b1');\n",
              "        const dataTable =\n",
              "          await google.colab.kernel.invokeFunction('convertToInteractive',\n",
              "                                                    [key], {});\n",
              "        if (!dataTable) return;\n",
              "\n",
              "        const docLinkHtml = 'Like what you see? Visit the ' +\n",
              "          '<a target=\"_blank\" href=https://colab.research.google.com/notebooks/data_table.ipynb>data table notebook</a>'\n",
              "          + ' to learn more about interactive tables.';\n",
              "        element.innerHTML = '';\n",
              "        dataTable['output_type'] = 'display_data';\n",
              "        await google.colab.output.renderOutput(dataTable, element);\n",
              "        const docLink = document.createElement('div');\n",
              "        docLink.innerHTML = docLinkHtml;\n",
              "        element.appendChild(docLink);\n",
              "      }\n",
              "    </script>\n",
              "  </div>\n",
              "\n",
              "\n",
              "<div id=\"df-844c70f5-4a6f-4e71-a94a-b922271a2109\">\n",
              "  <button class=\"colab-df-quickchart\" onclick=\"quickchart('df-844c70f5-4a6f-4e71-a94a-b922271a2109')\"\n",
              "            title=\"Suggest charts\"\n",
              "            style=\"display:none;\">\n",
              "\n",
              "<svg xmlns=\"http://www.w3.org/2000/svg\" height=\"24px\"viewBox=\"0 0 24 24\"\n",
              "     width=\"24px\">\n",
              "    <g>\n",
              "        <path d=\"M19 3H5c-1.1 0-2 .9-2 2v14c0 1.1.9 2 2 2h14c1.1 0 2-.9 2-2V5c0-1.1-.9-2-2-2zM9 17H7v-7h2v7zm4 0h-2V7h2v10zm4 0h-2v-4h2v4z\"/>\n",
              "    </g>\n",
              "</svg>\n",
              "  </button>\n",
              "\n",
              "<style>\n",
              "  .colab-df-quickchart {\n",
              "      --bg-color: #E8F0FE;\n",
              "      --fill-color: #1967D2;\n",
              "      --hover-bg-color: #E2EBFA;\n",
              "      --hover-fill-color: #174EA6;\n",
              "      --disabled-fill-color: #AAA;\n",
              "      --disabled-bg-color: #DDD;\n",
              "  }\n",
              "\n",
              "  [theme=dark] .colab-df-quickchart {\n",
              "      --bg-color: #3B4455;\n",
              "      --fill-color: #D2E3FC;\n",
              "      --hover-bg-color: #434B5C;\n",
              "      --hover-fill-color: #FFFFFF;\n",
              "      --disabled-bg-color: #3B4455;\n",
              "      --disabled-fill-color: #666;\n",
              "  }\n",
              "\n",
              "  .colab-df-quickchart {\n",
              "    background-color: var(--bg-color);\n",
              "    border: none;\n",
              "    border-radius: 50%;\n",
              "    cursor: pointer;\n",
              "    display: none;\n",
              "    fill: var(--fill-color);\n",
              "    height: 32px;\n",
              "    padding: 0;\n",
              "    width: 32px;\n",
              "  }\n",
              "\n",
              "  .colab-df-quickchart:hover {\n",
              "    background-color: var(--hover-bg-color);\n",
              "    box-shadow: 0 1px 2px rgba(60, 64, 67, 0.3), 0 1px 3px 1px rgba(60, 64, 67, 0.15);\n",
              "    fill: var(--button-hover-fill-color);\n",
              "  }\n",
              "\n",
              "  .colab-df-quickchart-complete:disabled,\n",
              "  .colab-df-quickchart-complete:disabled:hover {\n",
              "    background-color: var(--disabled-bg-color);\n",
              "    fill: var(--disabled-fill-color);\n",
              "    box-shadow: none;\n",
              "  }\n",
              "\n",
              "  .colab-df-spinner {\n",
              "    border: 2px solid var(--fill-color);\n",
              "    border-color: transparent;\n",
              "    border-bottom-color: var(--fill-color);\n",
              "    animation:\n",
              "      spin 1s steps(1) infinite;\n",
              "  }\n",
              "\n",
              "  @keyframes spin {\n",
              "    0% {\n",
              "      border-color: transparent;\n",
              "      border-bottom-color: var(--fill-color);\n",
              "      border-left-color: var(--fill-color);\n",
              "    }\n",
              "    20% {\n",
              "      border-color: transparent;\n",
              "      border-left-color: var(--fill-color);\n",
              "      border-top-color: var(--fill-color);\n",
              "    }\n",
              "    30% {\n",
              "      border-color: transparent;\n",
              "      border-left-color: var(--fill-color);\n",
              "      border-top-color: var(--fill-color);\n",
              "      border-right-color: var(--fill-color);\n",
              "    }\n",
              "    40% {\n",
              "      border-color: transparent;\n",
              "      border-right-color: var(--fill-color);\n",
              "      border-top-color: var(--fill-color);\n",
              "    }\n",
              "    60% {\n",
              "      border-color: transparent;\n",
              "      border-right-color: var(--fill-color);\n",
              "    }\n",
              "    80% {\n",
              "      border-color: transparent;\n",
              "      border-right-color: var(--fill-color);\n",
              "      border-bottom-color: var(--fill-color);\n",
              "    }\n",
              "    90% {\n",
              "      border-color: transparent;\n",
              "      border-bottom-color: var(--fill-color);\n",
              "    }\n",
              "  }\n",
              "</style>\n",
              "\n",
              "  <script>\n",
              "    async function quickchart(key) {\n",
              "      const quickchartButtonEl =\n",
              "        document.querySelector('#' + key + ' button');\n",
              "      quickchartButtonEl.disabled = true;  // To prevent multiple clicks.\n",
              "      quickchartButtonEl.classList.add('colab-df-spinner');\n",
              "      try {\n",
              "        const charts = await google.colab.kernel.invokeFunction(\n",
              "            'suggestCharts', [key], {});\n",
              "      } catch (error) {\n",
              "        console.error('Error during call to suggestCharts:', error);\n",
              "      }\n",
              "      quickchartButtonEl.classList.remove('colab-df-spinner');\n",
              "      quickchartButtonEl.classList.add('colab-df-quickchart-complete');\n",
              "    }\n",
              "    (() => {\n",
              "      let quickchartButtonEl =\n",
              "        document.querySelector('#df-844c70f5-4a6f-4e71-a94a-b922271a2109 button');\n",
              "      quickchartButtonEl.style.display =\n",
              "        google.colab.kernel.accessAllowed ? 'block' : 'none';\n",
              "    })();\n",
              "  </script>\n",
              "</div>\n",
              "    </div>\n",
              "  </div>\n"
            ],
            "application/vnd.google.colaboratory.intrinsic+json": {
              "type": "dataframe",
              "summary": "{\n  \"name\": \"df\",\n  \"rows\": 8,\n  \"fields\": [\n    {\n      \"column\": \"ID\",\n      \"properties\": {\n        \"dtype\": \"number\",\n        \"std\": 20885448.02352853,\n        \"min\": 19237.0,\n        \"max\": 45816654.0,\n        \"num_unique_values\": 8,\n        \"samples\": [\n          45576535.886104904,\n          45772308.0,\n          19237.0\n        ],\n        \"semantic_type\": \"\",\n        \"description\": \"\"\n      }\n    },\n    {\n      \"column\": \"Price\",\n      \"properties\": {\n        \"dtype\": \"number\",\n        \"std\": 9287732.292928915,\n        \"min\": 1.0,\n        \"max\": 26307500.0,\n        \"num_unique_values\": 8,\n        \"samples\": [\n          18555.92722357956,\n          13172.0,\n          19237.0\n        ],\n        \"semantic_type\": \"\",\n        \"description\": \"\"\n      }\n    },\n    {\n      \"column\": \"Prod. year\",\n      \"properties\": {\n        \"dtype\": \"number\",\n        \"std\": 6233.9085632171555,\n        \"min\": 5.668672994387615,\n        \"max\": 19237.0,\n        \"num_unique_values\": 8,\n        \"samples\": [\n          2010.9128242449447,\n          2012.0,\n          19237.0\n        ],\n        \"semantic_type\": \"\",\n        \"description\": \"\"\n      }\n    },\n    {\n      \"column\": \"Cylinders\",\n      \"properties\": {\n        \"dtype\": \"number\",\n        \"std\": 6799.551396006961,\n        \"min\": 1.0,\n        \"max\": 19237.0,\n        \"num_unique_values\": 6,\n        \"samples\": [\n          19237.0,\n          4.582991110880075,\n          16.0\n        ],\n        \"semantic_type\": \"\",\n        \"description\": \"\"\n      }\n    },\n    {\n      \"column\": \"Airbags\",\n      \"properties\": {\n        \"dtype\": \"number\",\n        \"std\": 6798.838421425441,\n        \"min\": 0.0,\n        \"max\": 19237.0,\n        \"num_unique_values\": 8,\n        \"samples\": [\n          6.582627228777876,\n          6.0,\n          19237.0\n        ],\n        \"semantic_type\": \"\",\n        \"description\": \"\"\n      }\n    }\n  ]\n}"
            }
          },
          "metadata": {},
          "execution_count": 8
        }
      ]
    },
    {
      "cell_type": "markdown",
      "source": [
        "## 1. EDA"
      ],
      "metadata": {
        "id": "YdDQSN1CevSK"
      }
    },
    {
      "cell_type": "markdown",
      "source": [
        "### What is the average price of each car manufacturer?"
      ],
      "metadata": {
        "id": "mmRYASabixEM"
      }
    },
    {
      "cell_type": "code",
      "source": [
        "mean_price_per_manufacturer = df.groupby('Manufacturer')['Price'].mean().reset_index()\n",
        "mean_price_per_manufacturer.columns = ['Manufacturer', 'Mean_Price']\n",
        "mean_price_per_manufacturer = mean_price_per_manufacturer.sort_values(by='Mean_Price', ascending=False)"
      ],
      "metadata": {
        "id": "-Z4_AIanhCUy"
      },
      "execution_count": 9,
      "outputs": []
    },
    {
      "cell_type": "code",
      "source": [
        "mean_price_per_manufacturer = df.groupby('Manufacturer')['Price'].mean().reset_index()\n",
        "\n",
        "mean_price_per_manufacturer.columns = ['Manufacturer', 'Mean_Price']\n",
        "\n",
        "mean_price_per_manufacturer = mean_price_per_manufacturer.sort_values(by='Mean_Price', ascending=False)\n",
        "\n",
        "plt.figure(figsize=(10, 6))\n",
        "plt.bar(mean_price_per_manufacturer['Manufacturer'], mean_price_per_manufacturer['Mean_Price'])\n",
        "plt.xlabel('Manufacturer')\n",
        "plt.ylabel('Mean Price')\n",
        "plt.title('Mean Price of Cars by Manufacturer')\n",
        "plt.xticks(rotation=90)\n",
        "plt.tight_layout()\n",
        "plt.show()"
      ],
      "metadata": {
        "id": "5VGzXhOGiX06",
        "colab": {
          "base_uri": "https://localhost:8080/",
          "height": 607
        },
        "outputId": "f1aefd3e-fa3a-434f-d00b-9f0e8cb79c43"
      },
      "execution_count": 10,
      "outputs": [
        {
          "output_type": "display_data",
          "data": {
            "text/plain": [
              "<Figure size 1000x600 with 1 Axes>"
            ],
            "image/png": "[encoded data removed]"
          },
          "metadata": {}
        }
      ]
    },
    {
      "cell_type": "markdown",
      "source": [
        "*   As the figure shows, the significantly highest car pricein our data set is the Lamborghini.\n",
        "*   which costs approximately 870000 usd or 31,633,200 Bath\n",
        "\n",
        "\n"
      ],
      "metadata": {
        "id": "lWWrWZDYjEMZ"
      }
    },
    {
      "cell_type": "markdown",
      "source": [
        "### What is the average price for each year of production of a car?"
      ],
      "metadata": {
        "id": "lFoBm5Goz7uP"
      }
    },
    {
      "cell_type": "code",
      "source": [
        "mean_price_per_manufacturer = df.groupby('Prod. year')['Price'].mean().reset_index()\n",
        "mean_price_per_manufacturer.columns = ['Prod. year', 'Mean_Price']\n",
        "mean_price_per_manufacturer = mean_price_per_manufacturer.sort_values(by='Mean_Price', ascending=False)\n",
        "\n",
        "overall_mean_price = mean_price_per_manufacturer['Mean_Price'].mean()"
      ],
      "metadata": {
        "id": "khrzGtIQxbs4"
      },
      "execution_count": 11,
      "outputs": []
    },
    {
      "cell_type": "code",
      "source": [
        "fig = px.bar(mean_price_per_manufacturer, x='Prod. year', y='Mean_Price',\n",
        "             title='Mean Price per Production Year',\n",
        "             labels={'Prod. year': 'Production Year', 'Mean_Price': 'Mean Price'},\n",
        "             color='Mean_Price',\n",
        "             color_continuous_scale=px.colors.sequential.Viridis)\n",
        "\n",
        "fig.add_trace(go.Scatter(x=mean_price_per_manufacturer['Prod. year'],\n",
        "                         y=[overall_mean_price]*len(mean_price_per_manufacturer),\n",
        "                         mode='lines',\n",
        "                         line=dict(color='red', dash='dash')))\n",
        "\n",
        "fig.add_annotation(\n",
        "    x=mean_price_per_manufacturer['Prod. year'].iloc[-1],\n",
        "    y=overall_mean_price,\n",
        "    text=\"Overall Mean Price\",\n",
        "    showarrow=True,\n",
        "    arrowhead=2,\n",
        "    ax=0,\n",
        "    ay=-40\n",
        ")\n",
        "fig.show()"
      ],
      "metadata": {
        "id": "Yuf57b5jygK3",
        "colab": {
          "base_uri": "https://localhost:8080/",
          "height": 542
        },
        "outputId": "b2e4db96-9588-464c-9afd-c584d9761816"
      },
      "execution_count": 12,
      "outputs": [
        {
          "output_type": "display_data",
          "data": {
            "text/html": [
              "<html>\n",
              "<head><meta charset=\"utf-8\" /></head>\n",
              "<body>\n",
              "    <div>            <script src=\"https://cdnjs.cloudflare.com/ajax/libs/mathjax/2.7.5/MathJax.js?config=TeX-AMS-MML_SVG\"></script><script type=\"text/javascript\">if (window.MathJax && window.MathJax.Hub && window.MathJax.Hub.Config) {window.MathJax.Hub.Config({SVG: {font: \"STIX-Web\"}});}</script>                <script type=\"text/javascript\">window.PlotlyConfig = {MathJaxConfig: 'local'};</script>\n",
              "        <script charset=\"utf-8\" src=\"https://cdn.plot.ly/plotly-2.24.1.min.js\"></script>                <div id=\"6daab233-7940-448b-a67c-1ca57e34fe08\" class=\"plotly-graph-div\" style=\"height:525px; width:100%;\"></div>            <script type=\"text/javascript\">                                    window.PLOTLYENV=window.PLOTLYENV || {};                                    if (document.getElementById(\"6daab233-7940-448b-a67c-1ca57e34fe08\")) {                    Plotly.newPlot(                        \"6daab233-7940-448b-a67c-1ca57e34fe08\",                        [{\"alignmentgroup\":\"True\",\"hovertemplate\":\"Production Year=%{x}\\u003cbr\\u003eMean Price=%{marker.color}\\u003cextra\\u003e\\u003c\\u002fextra\\u003e\",\"legendgroup\":\"\",\"marker\":{\"color\":[134684.21739130435,119172.0,65074.0,63006.10638297872,35415.452,31361.0,30669.179738562092,28070.765582655826,27282.97810218978,20866.485474499677,18001.524482109227,17735.25,16744.565970453386,15681.0,15355.083062645012,14181.331759946055,13894.68734491315,13623.700499168053,13145.183189655172,12903.429022082018,11525.782903663501,11196.785714285714,11037.878109452737,10340.5,9735.926430517711,9306.054054054053,8828.4,8521.728346456694,8095.935483870968,7527.0,7372.633802816901,7202.921052631579,6585.5,6427.638095238095,6407.95652173913,6313.139072847682,5968.880952380952,5677.066666666667,5215.5,4906.833333333333,4849.25,4746.8,4046.0,3546.3333333333335,2995.0,2800.0,2437.0,2200.0,1925.0,1400.0,1300.0,400.0,171.33333333333334,150.0],\"coloraxis\":\"coloraxis\",\"pattern\":{\"shape\":\"\"}},\"name\":\"\",\"offsetgroup\":\"\",\"orientation\":\"v\",\"showlegend\":false,\"textposition\":\"auto\",\"x\":[1999,1943,1965,2020,2018,1982,2019,2016,2017,2015,2014,1953,2013,1973,2012,2010,2011,2009,2007,2006,2008,2004,2005,1977,2003,2002,1987,2001,2000,1957,1998,1996,1964,1995,1993,1997,1994,1992,1990,1986,1988,1991,1984,1989,1985,1981,1974,1968,1980,1978,1983,1976,1939,1947],\"xaxis\":\"x\",\"y\":[134684.21739130435,119172.0,65074.0,63006.10638297872,35415.452,31361.0,30669.179738562092,28070.765582655826,27282.97810218978,20866.485474499677,18001.524482109227,17735.25,16744.565970453386,15681.0,15355.083062645012,14181.331759946055,13894.68734491315,13623.700499168053,13145.183189655172,12903.429022082018,11525.782903663501,11196.785714285714,11037.878109452737,10340.5,9735.926430517711,9306.054054054053,8828.4,8521.728346456694,8095.935483870968,7527.0,7372.633802816901,7202.921052631579,6585.5,6427.638095238095,6407.95652173913,6313.139072847682,5968.880952380952,5677.066666666667,5215.5,4906.833333333333,4849.25,4746.8,4046.0,3546.3333333333335,2995.0,2800.0,2437.0,2200.0,1925.0,1400.0,1300.0,400.0,171.33333333333334,150.0],\"yaxis\":\"y\",\"type\":\"bar\"},{\"line\":{\"color\":\"red\",\"dash\":\"dash\"},\"mode\":\"lines\",\"x\":[1999,1943,1965,2020,2018,1982,2019,2016,2017,2015,2014,1953,2013,1973,2012,2010,2011,2009,2007,2006,2008,2004,2005,1977,2003,2002,1987,2001,2000,1957,1998,1996,1964,1995,1993,1997,1994,1992,1990,1986,1988,1991,1984,1989,1985,1981,1974,1968,1980,1978,1983,1976,1939,1947],\"y\":[16630.161429810832,16630.161429810832,16630.161429810832,16630.161429810832,16630.161429810832,16630.161429810832,16630.161429810832,16630.161429810832,16630.161429810832,16630.161429810832,16630.161429810832,16630.161429810832,16630.161429810832,16630.161429810832,16630.161429810832,16630.161429810832,16630.161429810832,16630.161429810832,16630.161429810832,16630.161429810832,16630.161429810832,16630.161429810832,16630.161429810832,16630.161429810832,16630.161429810832,16630.161429810832,16630.161429810832,16630.161429810832,16630.161429810832,16630.161429810832,16630.161429810832,16630.161429810832,16630.161429810832,16630.161429810832,16630.161429810832,16630.161429810832,16630.161429810832,16630.161429810832,16630.161429810832,16630.161429810832,16630.161429810832,16630.161429810832,16630.161429810832,16630.161429810832,16630.161429810832,16630.161429810832,16630.161429810832,16630.161429810832,16630.161429810832,16630.161429810832,16630.161429810832,16630.161429810832,16630.161429810832,16630.161429810832],\"type\":\"scatter\"}],                        {\"template\":{\"data\":{\"histogram2dcontour\":[{\"type\":\"histogram2dcontour\",\"colorbar\":{\"outlinewidth\":0,\"ticks\":\"\"},\"colorscale\":[[0.0,\"#0d0887\"],[0.1111111111111111,\"#46039f\"],[0.2222222222222222,\"#7201a8\"],[0.3333333333333333,\"#9c179e\"],[0.4444444444444444,\"#bd3786\"],[0.5555555555555556,\"#d8576b\"],[0.6666666666666666,\"#ed7953\"],[0.7777777777777778,\"#fb9f3a\"],[0.8888888888888888,\"#fdca26\"],[1.0,\"#f0f921\"]]}],\"choropleth\":[{\"type\":\"choropleth\",\"colorbar\":{\"outlinewidth\":0,\"ticks\":\"\"}}],\"histogram2d\":[{\"type\":\"histogram2d\",\"colorbar\":{\"outlinewidth\":0,\"ticks\":\"\"},\"colorscale\":[[0.0,\"#0d0887\"],[0.1111111111111111,\"#46039f\"],[0.2222222222222222,\"#7201a8\"],[0.3333333333333333,\"#9c179e\"],[0.4444444444444444,\"#bd3786\"],[0.5555555555555556,\"#d8576b\"],[0.6666666666666666,\"#ed7953\"],[0.7777777777777778,\"#fb9f3a\"],[0.8888888888888888,\"#fdca26\"],[1.0,\"#f0f921\"]]}],\"heatmap\":[{\"type\":\"heatmap\",\"colorbar\":{\"outlinewidth\":0,\"ticks\":\"\"},\"colorscale\":[[0.0,\"#0d0887\"],[0.1111111111111111,\"#46039f\"],[0.2222222222222222,\"#7201a8\"],[0.3333333333333333,\"#9c179e\"],[0.4444444444444444,\"#bd3786\"],[0.5555555555555556,\"#d8576b\"],[0.6666666666666666,\"#ed7953\"],[0.7777777777777778,\"#fb9f3a\"],[0.8888888888888888,\"#fdca26\"],[1.0,\"#f0f921\"]]}],\"heatmapgl\":[{\"type\":\"heatmapgl\",\"colorbar\":{\"outlinewidth\":0,\"ticks\":\"\"},\"colorscale\":[[0.0,\"#0d0887\"],[0.1111111111111111,\"#46039f\"],[0.2222222222222222,\"#7201a8\"],[0.3333333333333333,\"#9c179e\"],[0.4444444444444444,\"#bd3786\"],[0.5555555555555556,\"#d8576b\"],[0.6666666666666666,\"#ed7953\"],[0.7777777777777778,\"#fb9f3a\"],[0.8888888888888888,\"#fdca26\"],[1.0,\"#f0f921\"]]}],\"contourcarpet\":[{\"type\":\"contourcarpet\",\"colorbar\":{\"outlinewidth\":0,\"ticks\":\"\"}}],\"contour\":[{\"type\":\"contour\",\"colorbar\":{\"outlinewidth\":0,\"ticks\":\"\"},\"colorscale\":[[0.0,\"#0d0887\"],[0.1111111111111111,\"#46039f\"],[0.2222222222222222,\"#7201a8\"],[0.3333333333333333,\"#9c179e\"],[0.4444444444444444,\"#bd3786\"],[0.5555555555555556,\"#d8576b\"],[0.6666666666666666,\"#ed7953\"],[0.7777777777777778,\"#fb9f3a\"],[0.8888888888888888,\"#fdca26\"],[1.0,\"#f0f921\"]]}],\"surface\":[{\"type\":\"surface\",\"colorbar\":{\"outlinewidth\":0,\"ticks\":\"\"},\"colorscale\":[[0.0,\"#0d0887\"],[0.1111111111111111,\"#46039f\"],[0.2222222222222222,\"#7201a8\"],[0.3333333333333333,\"#9c179e\"],[0.4444444444444444,\"#bd3786\"],[0.5555555555555556,\"#d8576b\"],[0.6666666666666666,\"#ed7953\"],[0.7777777777777778,\"#fb9f3a\"],[0.8888888888888888,\"#fdca26\"],[1.0,\"#f0f921\"]]}],\"mesh3d\":[{\"type\":\"mesh3d\",\"colorbar\":{\"outlinewidth\":0,\"ticks\":\"\"}}],\"scatter\":[{\"fillpattern\":{\"fillmode\":\"overlay\",\"size\":10,\"solidity\":0.2},\"type\":\"scatter\"}],\"parcoords\":[{\"type\":\"parcoords\",\"line\":{\"colorbar\":{\"outlinewidth\":0,\"ticks\":\"\"}}}],\"scatterpolargl\":[{\"type\":\"scatterpolargl\",\"marker\":{\"colorbar\":{\"outlinewidth\":0,\"ticks\":\"\"}}}],\"bar\":[{\"error_x\":{\"color\":\"#2a3f5f\"},\"error_y\":{\"color\":\"#2a3f5f\"},\"marker\":{\"line\":{\"color\":\"#E5ECF6\",\"width\":0.5},\"pattern\":{\"fillmode\":\"overlay\",\"size\":10,\"solidity\":0.2}},\"type\":\"bar\"}],\"scattergeo\":[{\"type\":\"scattergeo\",\"marker\":{\"colorbar\":{\"outlinewidth\":0,\"ticks\":\"\"}}}],\"scatterpolar\":[{\"type\":\"scatterpolar\",\"marker\":{\"colorbar\":{\"outlinewidth\":0,\"ticks\":\"\"}}}],\"histogram\":[{\"marker\":{\"pattern\":{\"fillmode\":\"overlay\",\"size\":10,\"solidity\":0.2}},\"type\":\"histogram\"}],\"scattergl\":[{\"type\":\"scattergl\",\"marker\":{\"colorbar\":{\"outlinewidth\":0,\"ticks\":\"\"}}}],\"scatter3d\":[{\"type\":\"scatter3d\",\"line\":{\"colorbar\":{\"outlinewidth\":0,\"ticks\":\"\"}},\"marker\":{\"colorbar\":{\"outlinewidth\":0,\"ticks\":\"\"}}}],\"scattermapbox\":[{\"type\":\"scattermapbox\",\"marker\":{\"colorbar\":{\"outlinewidth\":0,\"ticks\":\"\"}}}],\"scatterternary\":[{\"type\":\"scatterternary\",\"marker\":{\"colorbar\":{\"outlinewidth\":0,\"ticks\":\"\"}}}],\"scattercarpet\":[{\"type\":\"scattercarpet\",\"marker\":{\"colorbar\":{\"outlinewidth\":0,\"ticks\":\"\"}}}],\"carpet\":[{\"aaxis\":{\"endlinecolor\":\"#2a3f5f\",\"gridcolor\":\"white\",\"linecolor\":\"white\",\"minorgridcolor\":\"white\",\"startlinecolor\":\"#2a3f5f\"},\"baxis\":{\"endlinecolor\":\"#2a3f5f\",\"gridcolor\":\"white\",\"linecolor\":\"white\",\"minorgridcolor\":\"white\",\"startlinecolor\":\"#2a3f5f\"},\"type\":\"carpet\"}],\"table\":[{\"cells\":{\"fill\":{\"color\":\"#EBF0F8\"},\"line\":{\"color\":\"white\"}},\"header\":{\"fill\":{\"color\":\"#C8D4E3\"},\"line\":{\"color\":\"white\"}},\"type\":\"table\"}],\"barpolar\":[{\"marker\":{\"line\":{\"color\":\"#E5ECF6\",\"width\":0.5},\"pattern\":{\"fillmode\":\"overlay\",\"size\":10,\"solidity\":0.2}},\"type\":\"barpolar\"}],\"pie\":[{\"automargin\":true,\"type\":\"pie\"}]},\"layout\":{\"autotypenumbers\":\"strict\",\"colorway\":[\"#636efa\",\"#EF553B\",\"#00cc96\",\"#ab63fa\",\"#FFA15A\",\"#19d3f3\",\"#FF6692\",\"#B6E880\",\"#FF97FF\",\"#FECB52\"],\"font\":{\"color\":\"#2a3f5f\"},\"hovermode\":\"closest\",\"hoverlabel\":{\"align\":\"left\"},\"paper_bgcolor\":\"white\",\"plot_bgcolor\":\"#E5ECF6\",\"polar\":{\"bgcolor\":\"#E5ECF6\",\"angularaxis\":{\"gridcolor\":\"white\",\"linecolor\":\"white\",\"ticks\":\"\"},\"radialaxis\":{\"gridcolor\":\"white\",\"linecolor\":\"white\",\"ticks\":\"\"}},\"ternary\":{\"bgcolor\":\"#E5ECF6\",\"aaxis\":{\"gridcolor\":\"white\",\"linecolor\":\"white\",\"ticks\":\"\"},\"baxis\":{\"gridcolor\":\"white\",\"linecolor\":\"white\",\"ticks\":\"\"},\"caxis\":{\"gridcolor\":\"white\",\"linecolor\":\"white\",\"ticks\":\"\"}},\"coloraxis\":{\"colorbar\":{\"outlinewidth\":0,\"ticks\":\"\"}},\"colorscale\":{\"sequential\":[[0.0,\"#0d0887\"],[0.1111111111111111,\"#46039f\"],[0.2222222222222222,\"#7201a8\"],[0.3333333333333333,\"#9c179e\"],[0.4444444444444444,\"#bd3786\"],[0.5555555555555556,\"#d8576b\"],[0.6666666666666666,\"#ed7953\"],[0.7777777777777778,\"#fb9f3a\"],[0.8888888888888888,\"#fdca26\"],[1.0,\"#f0f921\"]],\"sequentialminus\":[[0.0,\"#0d0887\"],[0.1111111111111111,\"#46039f\"],[0.2222222222222222,\"#7201a8\"],[0.3333333333333333,\"#9c179e\"],[0.4444444444444444,\"#bd3786\"],[0.5555555555555556,\"#d8576b\"],[0.6666666666666666,\"#ed7953\"],[0.7777777777777778,\"#fb9f3a\"],[0.8888888888888888,\"#fdca26\"],[1.0,\"#f0f921\"]],\"diverging\":[[0,\"#8e0152\"],[0.1,\"#c51b7d\"],[0.2,\"#de77ae\"],[0.3,\"#f1b6da\"],[0.4,\"#fde0ef\"],[0.5,\"#f7f7f7\"],[0.6,\"#e6f5d0\"],[0.7,\"#b8e186\"],[0.8,\"#7fbc41\"],[0.9,\"#4d9221\"],[1,\"#276419\"]]},\"xaxis\":{\"gridcolor\":\"white\",\"linecolor\":\"white\",\"ticks\":\"\",\"title\":{\"standoff\":15},\"zerolinecolor\":\"white\",\"automargin\":true,\"zerolinewidth\":2},\"yaxis\":{\"gridcolor\":\"white\",\"linecolor\":\"white\",\"ticks\":\"\",\"title\":{\"standoff\":15},\"zerolinecolor\":\"white\",\"automargin\":true,\"zerolinewidth\":2},\"scene\":{\"xaxis\":{\"backgroundcolor\":\"#E5ECF6\",\"gridcolor\":\"white\",\"linecolor\":\"white\",\"showbackground\":true,\"ticks\":\"\",\"zerolinecolor\":\"white\",\"gridwidth\":2},\"yaxis\":{\"backgroundcolor\":\"#E5ECF6\",\"gridcolor\":\"white\",\"linecolor\":\"white\",\"showbackground\":true,\"ticks\":\"\",\"zerolinecolor\":\"white\",\"gridwidth\":2},\"zaxis\":{\"backgroundcolor\":\"#E5ECF6\",\"gridcolor\":\"white\",\"linecolor\":\"white\",\"showbackground\":true,\"ticks\":\"\",\"zerolinecolor\":\"white\",\"gridwidth\":2}},\"shapedefaults\":{\"line\":{\"color\":\"#2a3f5f\"}},\"annotationdefaults\":{\"arrowcolor\":\"#2a3f5f\",\"arrowhead\":0,\"arrowwidth\":1},\"geo\":{\"bgcolor\":\"white\",\"landcolor\":\"#E5ECF6\",\"subunitcolor\":\"white\",\"showland\":true,\"showlakes\":true,\"lakecolor\":\"white\"},\"title\":{\"x\":0.05},\"mapbox\":{\"style\":\"light\"}}},\"xaxis\":{\"anchor\":\"y\",\"domain\":[0.0,1.0],\"title\":{\"text\":\"Production Year\"}},\"yaxis\":{\"anchor\":\"x\",\"domain\":[0.0,1.0],\"title\":{\"text\":\"Mean Price\"}},\"coloraxis\":{\"colorbar\":{\"title\":{\"text\":\"Mean Price\"}},\"colorscale\":[[0.0,\"#440154\"],[0.1111111111111111,\"#482878\"],[0.2222222222222222,\"#3e4989\"],[0.3333333333333333,\"#31688e\"],[0.4444444444444444,\"#26828e\"],[0.5555555555555556,\"#1f9e89\"],[0.6666666666666666,\"#35b779\"],[0.7777777777777778,\"#6ece58\"],[0.8888888888888888,\"#b5de2b\"],[1.0,\"#fde725\"]]},\"legend\":{\"tracegroupgap\":0},\"title\":{\"text\":\"Mean Price per Production Year\"},\"barmode\":\"relative\",\"annotations\":[{\"arrowhead\":2,\"ax\":0,\"ay\":-40,\"showarrow\":true,\"text\":\"Overall Mean Price\",\"x\":1947,\"y\":16630.161429810832}]},                        {\"responsive\": true}                    ).then(function(){\n",
              "                            \n",
              "var gd = document.getElementById('6daab233-7940-448b-a67c-1ca57e34fe08');\n",
              "var x = new MutationObserver(function (mutations, observer) {{\n",
              "        var display = window.getComputedStyle(gd).display;\n",
              "        if (!display || display === 'none') {{\n",
              "            console.log([gd, 'removed!']);\n",
              "            Plotly.purge(gd);\n",
              "            observer.disconnect();\n",
              "        }}\n",
              "}});\n",
              "\n",
              "// Listen for the removal of the full notebook cells\n",
              "var notebookContainer = gd.closest('#notebook-container');\n",
              "if (notebookContainer) {{\n",
              "    x.observe(notebookContainer, {childList: true});\n",
              "}}\n",
              "\n",
              "// Listen for the clearing of the current output cell\n",
              "var outputEl = gd.closest('.output');\n",
              "if (outputEl) {{\n",
              "    x.observe(outputEl, {childList: true});\n",
              "}}\n",
              "\n",
              "                        })                };                            </script>        </div>\n",
              "</body>\n",
              "</html>"
            ]
          },
          "metadata": {}
        }
      ]
    },
    {
      "cell_type": "markdown",
      "source": [
        "\n",
        "\n",
        "*   There are some old cars that have high prices but were manufactured since 1990. Go up and you will find that the newer it is, the higher the price will be.\n",
        "*   The average price of all cars in this dataset is 16630 USD.\n",
        "\n"
      ],
      "metadata": {
        "id": "YL-CAyUfz98w"
      }
    },
    {
      "cell_type": "markdown",
      "source": [
        "### Does leather interior have a big effect on the price of the car?"
      ],
      "metadata": {
        "id": "8oxxUq8D2IsB"
      }
    },
    {
      "cell_type": "code",
      "source": [
        "leather_interior = df[df['Leather interior'] == \"Yes\"]\n",
        "not_leather_interior  = df[df['Leather interior'] == \"No\"]\n",
        "count_leather = len(leather_interior)\n",
        "count_not_leather = len(not_leather_interior)\n",
        "leather_interior_df = pd.DataFrame({\n",
        "    'Leather Interior': ['Yes', 'No'],\n",
        "    'Count': [count_leather, count_not_leather]\n",
        "})"
      ],
      "metadata": {
        "id": "nLxhOPgc2Ib-"
      },
      "execution_count": 13,
      "outputs": []
    },
    {
      "cell_type": "code",
      "source": [
        "plt.figure(figsize=(8, 6))\n",
        "sns.barplot(x='Leather Interior', y='Count', data=leather_interior_df, palette='viridis')\n",
        "\n",
        "for index, row in leather_interior_df.iterrows():\n",
        "    plt.text(index, row['Count'], int(row['Count']), color='black', ha=\"center\")\n",
        "\n",
        "plt.xlabel('Leather Interior')\n",
        "plt.ylabel('Count')\n",
        "plt.title('Count of Cars with and without Leather Interior')\n",
        "plt.grid(axis='y', linestyle='--', alpha=0.7)\n",
        "\n",
        "plt.tight_layout()\n",
        "plt.show()"
      ],
      "metadata": {
        "id": "kelv09xZ3x2s",
        "colab": {
          "base_uri": "https://localhost:8080/",
          "height": 729
        },
        "outputId": "bee9458d-386f-4c51-d481-8fda3e2772e9"
      },
      "execution_count": 14,
      "outputs": [
        {
          "output_type": "stream",
          "name": "stderr",
          "text": [
            "<ipython-input-14-11ab88eed90c>:2: FutureWarning:\n",
            "\n",
            "\n",
            "\n",
            "Passing `palette` without assigning `hue` is deprecated and will be removed in v0.14.0. Assign the `x` variable to `hue` and set `legend=False` for the same effect.\n",
            "\n",
            "\n"
          ]
        },
        {
          "output_type": "display_data",
          "data": {
            "text/plain": [
              "<Figure size 800x600 with 1 Axes>"
            ],
            "image/png": "[encoded data removed]"
          },
          "metadata": {}
        }
      ]
    },
    {
      "cell_type": "code",
      "source": [
        "leather_interior_mean_price = leather_interior['Price'].mean()\n",
        "not_leather_interior_mean_price = not_leather_interior['Price'].mean()\n",
        "leather_interior_price_df = pd.DataFrame({\n",
        "    'Leather Interior': ['Yes', 'No'],\n",
        "    'Mean Price': [leather_interior_mean_price, not_leather_interior_mean_price]\n",
        "})\n",
        "\n",
        "plt.figure(figsize=(8, 6))\n",
        "ax = sns.barplot(x='Leather Interior', y='Mean Price', data=leather_interior_price_df, palette=['orange', 'blue'])\n",
        "\n",
        "for index, row in leather_interior_price_df.iterrows():\n",
        "    plt.text(index, row['Mean Price'], f'{row[\"Mean Price\"]:.2f}', color='black', ha=\"center\")\n",
        "\n",
        "plt.xlabel('Leather Interior')\n",
        "plt.ylabel('Mean Price')\n",
        "plt.title('Mean Price of Cars with and without Leather Interior')\n",
        "plt.grid(axis='y', linestyle='--', alpha=0.7)\n",
        "\n",
        "plt.tight_layout()\n",
        "plt.show()"
      ],
      "metadata": {
        "id": "_zC1hF7z5PZT",
        "colab": {
          "base_uri": "https://localhost:8080/",
          "height": 729
        },
        "outputId": "83d876fe-0642-4a49-a4ca-1549ba34432c"
      },
      "execution_count": 15,
      "outputs": [
        {
          "output_type": "stream",
          "name": "stderr",
          "text": [
            "<ipython-input-15-3830a836c068>:9: FutureWarning:\n",
            "\n",
            "\n",
            "\n",
            "Passing `palette` without assigning `hue` is deprecated and will be removed in v0.14.0. Assign the `x` variable to `hue` and set `legend=False` for the same effect.\n",
            "\n",
            "\n"
          ]
        },
        {
          "output_type": "display_data",
          "data": {
            "text/plain": [
              "<Figure size 800x600 with 1 Axes>"
            ],
            "image/png": "[encoded data removed]"
          },
          "metadata": {}
        }
      ]
    },
    {
      "cell_type": "markdown",
      "source": [
        "\n",
        "\n",
        "*   The number of cars with leather interiors is higher.\n",
        "*   But the average price of both types of cars with leather interior and without leather interior are very close to each other.\n"
      ],
      "metadata": {
        "id": "mDIZHAYl6rni"
      }
    },
    {
      "cell_type": "markdown",
      "source": [
        "## 2. Data preprocessing"
      ],
      "metadata": {
        "id": "aZX2D2fQ54X-"
      }
    },
    {
      "cell_type": "code",
      "source": [
        "df['Mileage'] = df['Mileage'].str.replace(' km', '').astype(float)"
      ],
      "metadata": {
        "id": "_w1myJ8g4hu9"
      },
      "execution_count": 16,
      "outputs": []
    },
    {
      "cell_type": "code",
      "source": [
        "df['Turbo'] = df['Engine volume'].str.contains('Turbo').astype(int)\n",
        "df['Engine volume'] = df['Engine volume'].str.replace(' Turbo', '')"
      ],
      "metadata": {
        "id": "8nLzMEbc6TQ2"
      },
      "execution_count": 17,
      "outputs": []
    },
    {
      "cell_type": "code",
      "source": [
        "df['Doors'] = df['Doors'].replace({'04-May': 4, '02-Mar': 2, '>5': 5})"
      ],
      "metadata": {
        "id": "Nfi9tn_l8L_3"
      },
      "execution_count": 18,
      "outputs": []
    },
    {
      "cell_type": "code",
      "source": [
        "df['Wheel'] = df['Wheel'].replace({'Left wheel': 0, 'Right-hand drive': 1})\n",
        "df.rename(columns={'Wheel': 'Drive'}, inplace=True)"
      ],
      "metadata": {
        "id": "XdQQfmLS9HSA"
      },
      "execution_count": 19,
      "outputs": []
    },
    {
      "cell_type": "code",
      "source": [
        "numeric_df = df.select_dtypes(include=[np.number])\n",
        "\n",
        "plt.figure(figsize = (12, 6))\n",
        "\n",
        "corr = numeric_df.corr()\n",
        "sns.heatmap(corr, annot = True, linewidths = 1)\n",
        "plt.show()"
      ],
      "metadata": {
        "id": "qRGtdIeQ94pH",
        "colab": {
          "base_uri": "https://localhost:8080/",
          "height": 528
        },
        "outputId": "827a73d3-f12f-4e8b-b09b-5fa69f838217"
      },
      "execution_count": 20,
      "outputs": [
        {
          "output_type": "display_data",
          "data": {
            "text/plain": [
              "<Figure size 1200x600 with 2 Axes>"
            ],
            "image/png": "[encoded data removed]"
          },
          "metadata": {}
        }
      ]
    },
    {
      "cell_type": "code",
      "source": [
        "df.drop(['ID','Levy',], axis=1,errors='ignore', inplace=True)\n",
        "df"
      ],
      "metadata": {
        "colab": {
          "base_uri": "https://localhost:8080/",
          "height": 458
        },
        "id": "lKxf6ZM-_8Kt",
        "outputId": "9c2b2155-7179-4ef1-e186-06d67db31b56"
      },
      "execution_count": 21,
      "outputs": [
        {
          "output_type": "execute_result",
          "data": {
            "text/plain": [
              "       Price   Manufacturer    Model  Prod. year   Category Leather interior  \\\n",
              "0      13328          LEXUS   RX 450        2010       Jeep              Yes   \n",
              "1      16621      CHEVROLET  Equinox        2011       Jeep               No   \n",
              "2       8467          HONDA      FIT        2006  Hatchback               No   \n",
              "3       3607           FORD   Escape        2011       Jeep              Yes   \n",
              "4      11726          HONDA      FIT        2014  Hatchback              Yes   \n",
              "...      ...            ...      ...         ...        ...              ...   \n",
              "19232   8467  MERCEDES-BENZ  CLK 200        1999      Coupe              Yes   \n",
              "19233  15681        HYUNDAI   Sonata        2011      Sedan              Yes   \n",
              "19234  26108        HYUNDAI   Tucson        2010       Jeep              Yes   \n",
              "19235   5331      CHEVROLET  Captiva        2007       Jeep              Yes   \n",
              "19236    470        HYUNDAI   Sonata        2012      Sedan              Yes   \n",
              "\n",
              "      Fuel type Engine volume   Mileage  Cylinders Gear box type Drive wheels  \\\n",
              "0        Hybrid           3.5  186005.0        6.0     Automatic          4x4   \n",
              "1        Petrol             3  192000.0        6.0     Tiptronic          4x4   \n",
              "2        Petrol           1.3  200000.0        4.0      Variator        Front   \n",
              "3        Hybrid           2.5  168966.0        4.0     Automatic          4x4   \n",
              "4        Petrol           1.3   91901.0        4.0     Automatic        Front   \n",
              "...         ...           ...       ...        ...           ...          ...   \n",
              "19232       CNG           2.0  300000.0        4.0        Manual         Rear   \n",
              "19233    Petrol           2.4  161600.0        4.0     Tiptronic        Front   \n",
              "19234    Diesel             2  116365.0        4.0     Automatic        Front   \n",
              "19235    Diesel             2   51258.0        4.0     Automatic        Front   \n",
              "19236    Hybrid           2.4  186923.0        4.0     Automatic        Front   \n",
              "\n",
              "       Doors  Drive   Color  Airbags  Turbo  \n",
              "0          4      0  Silver       12      0  \n",
              "1          4      0   Black        8      0  \n",
              "2          4      1   Black        2      0  \n",
              "3          4      0   White        0      0  \n",
              "4          4      0  Silver        4      0  \n",
              "...      ...    ...     ...      ...    ...  \n",
              "19232      2      0  Silver        5      1  \n",
              "19233      4      0     Red        8      0  \n",
              "19234      4      0    Grey        4      0  \n",
              "19235      4      0   Black        4      0  \n",
              "19236      4      0   White       12      0  \n",
              "\n",
              "[19237 rows x 17 columns]"
            ],
            "text/html": [
              "\n",
              "  <div id=\"df-5abe107a-5697-41df-9542-22a5b06fa382\" class=\"colab-df-container\">\n",
              "    <div>\n",
              "<style scoped>\n",
              "    .dataframe tbody tr th:only-of-type {\n",
              "        vertical-align: middle;\n",
              "    }\n",
              "\n",
              "    .dataframe tbody tr th {\n",
              "        vertical-align: top;\n",
              "    }\n",
              "\n",
              "    .dataframe thead th {\n",
              "        text-align: right;\n",
              "    }\n",
              "</style>\n",
              "<table border=\"1\" class=\"dataframe\">\n",
              "  <thead>\n",
              "    <tr style=\"text-align: right;\">\n",
              "      <th></th>\n",
              "      <th>Price</th>\n",
              "      <th>Manufacturer</th>\n",
              "      <th>Model</th>\n",
              "      <th>Prod. year</th>\n",
              "      <th>Category</th>\n",
              "      <th>Leather interior</th>\n",
              "      <th>Fuel type</th>\n",
              "      <th>Engine volume</th>\n",
              "      <th>Mileage</th>\n",
              "      <th>Cylinders</th>\n",
              "      <th>Gear box type</th>\n",
              "      <th>Drive wheels</th>\n",
              "      <th>Doors</th>\n",
              "      <th>Drive</th>\n",
              "      <th>Color</th>\n",
              "      <th>Airbags</th>\n",
              "      <th>Turbo</th>\n",
              "    </tr>\n",
              "  </thead>\n",
              "  <tbody>\n",
              "    <tr>\n",
              "      <th>0</th>\n",
              "      <td>13328</td>\n",
              "      <td>LEXUS</td>\n",
              "      <td>RX 450</td>\n",
              "      <td>2010</td>\n",
              "      <td>Jeep</td>\n",
              "      <td>Yes</td>\n",
              "      <td>Hybrid</td>\n",
              "      <td>3.5</td>\n",
              "      <td>186005.0</td>\n",
              "      <td>6.0</td>\n",
              "      <td>Automatic</td>\n",
              "      <td>4x4</td>\n",
              "      <td>4</td>\n",
              "      <td>0</td>\n",
              "      <td>Silver</td>\n",
              "      <td>12</td>\n",
              "      <td>0</td>\n",
              "    </tr>\n",
              "    <tr>\n",
              "      <th>1</th>\n",
              "      <td>16621</td>\n",
              "      <td>CHEVROLET</td>\n",
              "      <td>Equinox</td>\n",
              "      <td>2011</td>\n",
              "      <td>Jeep</td>\n",
              "      <td>No</td>\n",
              "      <td>Petrol</td>\n",
              "      <td>3</td>\n",
              "      <td>192000.0</td>\n",
              "      <td>6.0</td>\n",
              "      <td>Tiptronic</td>\n",
              "      <td>4x4</td>\n",
              "      <td>4</td>\n",
              "      <td>0</td>\n",
              "      <td>Black</td>\n",
              "      <td>8</td>\n",
              "      <td>0</td>\n",
              "    </tr>\n",
              "    <tr>\n",
              "      <th>2</th>\n",
              "      <td>8467</td>\n",
              "      <td>HONDA</td>\n",
              "      <td>FIT</td>\n",
              "      <td>2006</td>\n",
              "      <td>Hatchback</td>\n",
              "      <td>No</td>\n",
              "      <td>Petrol</td>\n",
              "      <td>1.3</td>\n",
              "      <td>200000.0</td>\n",
              "      <td>4.0</td>\n",
              "      <td>Variator</td>\n",
              "      <td>Front</td>\n",
              "      <td>4</td>\n",
              "      <td>1</td>\n",
              "      <td>Black</td>\n",
              "      <td>2</td>\n",
              "      <td>0</td>\n",
              "    </tr>\n",
              "    <tr>\n",
              "      <th>3</th>\n",
              "      <td>3607</td>\n",
              "      <td>FORD</td>\n",
              "      <td>Escape</td>\n",
              "      <td>2011</td>\n",
              "      <td>Jeep</td>\n",
              "      <td>Yes</td>\n",
              "      <td>Hybrid</td>\n",
              "      <td>2.5</td>\n",
              "      <td>168966.0</td>\n",
              "      <td>4.0</td>\n",
              "      <td>Automatic</td>\n",
              "      <td>4x4</td>\n",
              "      <td>4</td>\n",
              "      <td>0</td>\n",
              "      <td>White</td>\n",
              "      <td>0</td>\n",
              "      <td>0</td>\n",
              "    </tr>\n",
              "    <tr>\n",
              "      <th>4</th>\n",
              "      <td>11726</td>\n",
              "      <td>HONDA</td>\n",
              "      <td>FIT</td>\n",
              "      <td>2014</td>\n",
              "      <td>Hatchback</td>\n",
              "      <td>Yes</td>\n",
              "      <td>Petrol</td>\n",
              "      <td>1.3</td>\n",
              "      <td>91901.0</td>\n",
              "      <td>4.0</td>\n",
              "      <td>Automatic</td>\n",
              "      <td>Front</td>\n",
              "      <td>4</td>\n",
              "      <td>0</td>\n",
              "      <td>Silver</td>\n",
              "      <td>4</td>\n",
              "      <td>0</td>\n",
              "    </tr>\n",
              "    <tr>\n",
              "      <th>...</th>\n",
              "      <td>...</td>\n",
              "      <td>...</td>\n",
              "      <td>...</td>\n",
              "      <td>...</td>\n",
              "      <td>...</td>\n",
              "      <td>...</td>\n",
              "      <td>...</td>\n",
              "      <td>...</td>\n",
              "      <td>...</td>\n",
              "      <td>...</td>\n",
              "      <td>...</td>\n",
              "      <td>...</td>\n",
              "      <td>...</td>\n",
              "      <td>...</td>\n",
              "      <td>...</td>\n",
              "      <td>...</td>\n",
              "      <td>...</td>\n",
              "    </tr>\n",
              "    <tr>\n",
              "      <th>19232</th>\n",
              "      <td>8467</td>\n",
              "      <td>MERCEDES-BENZ</td>\n",
              "      <td>CLK 200</td>\n",
              "      <td>1999</td>\n",
              "      <td>Coupe</td>\n",
              "      <td>Yes</td>\n",
              "      <td>CNG</td>\n",
              "      <td>2.0</td>\n",
              "      <td>300000.0</td>\n",
              "      <td>4.0</td>\n",
              "      <td>Manual</td>\n",
              "      <td>Rear</td>\n",
              "      <td>2</td>\n",
              "      <td>0</td>\n",
              "      <td>Silver</td>\n",
              "      <td>5</td>\n",
              "      <td>1</td>\n",
              "    </tr>\n",
              "    <tr>\n",
              "      <th>19233</th>\n",
              "      <td>15681</td>\n",
              "      <td>HYUNDAI</td>\n",
              "      <td>Sonata</td>\n",
              "      <td>2011</td>\n",
              "      <td>Sedan</td>\n",
              "      <td>Yes</td>\n",
              "      <td>Petrol</td>\n",
              "      <td>2.4</td>\n",
              "      <td>161600.0</td>\n",
              "      <td>4.0</td>\n",
              "      <td>Tiptronic</td>\n",
              "      <td>Front</td>\n",
              "      <td>4</td>\n",
              "      <td>0</td>\n",
              "      <td>Red</td>\n",
              "      <td>8</td>\n",
              "      <td>0</td>\n",
              "    </tr>\n",
              "    <tr>\n",
              "      <th>19234</th>\n",
              "      <td>26108</td>\n",
              "      <td>HYUNDAI</td>\n",
              "      <td>Tucson</td>\n",
              "      <td>2010</td>\n",
              "      <td>Jeep</td>\n",
              "      <td>Yes</td>\n",
              "      <td>Diesel</td>\n",
              "      <td>2</td>\n",
              "      <td>116365.0</td>\n",
              "      <td>4.0</td>\n",
              "      <td>Automatic</td>\n",
              "      <td>Front</td>\n",
              "      <td>4</td>\n",
              "      <td>0</td>\n",
              "      <td>Grey</td>\n",
              "      <td>4</td>\n",
              "      <td>0</td>\n",
              "    </tr>\n",
              "    <tr>\n",
              "      <th>19235</th>\n",
              "      <td>5331</td>\n",
              "      <td>CHEVROLET</td>\n",
              "      <td>Captiva</td>\n",
              "      <td>2007</td>\n",
              "      <td>Jeep</td>\n",
              "      <td>Yes</td>\n",
              "      <td>Diesel</td>\n",
              "      <td>2</td>\n",
              "      <td>51258.0</td>\n",
              "      <td>4.0</td>\n",
              "      <td>Automatic</td>\n",
              "      <td>Front</td>\n",
              "      <td>4</td>\n",
              "      <td>0</td>\n",
              "      <td>Black</td>\n",
              "      <td>4</td>\n",
              "      <td>0</td>\n",
              "    </tr>\n",
              "    <tr>\n",
              "      <th>19236</th>\n",
              "      <td>470</td>\n",
              "      <td>HYUNDAI</td>\n",
              "      <td>Sonata</td>\n",
              "      <td>2012</td>\n",
              "      <td>Sedan</td>\n",
              "      <td>Yes</td>\n",
              "      <td>Hybrid</td>\n",
              "      <td>2.4</td>\n",
              "      <td>186923.0</td>\n",
              "      <td>4.0</td>\n",
              "      <td>Automatic</td>\n",
              "      <td>Front</td>\n",
              "      <td>4</td>\n",
              "      <td>0</td>\n",
              "      <td>White</td>\n",
              "      <td>12</td>\n",
              "      <td>0</td>\n",
              "    </tr>\n",
              "  </tbody>\n",
              "</table>\n",
              "<p>19237 rows × 17 columns</p>\n",
              "</div>\n",
              "    <div class=\"colab-df-buttons\">\n",
              "\n",
              "  <div class=\"colab-df-container\">\n",
              "    <button class=\"colab-df-convert\" onclick=\"convertToInteractive('df-5abe107a-5697-41df-9542-22a5b06fa382')\"\n",
              "            title=\"Convert this dataframe to an interactive table.\"\n",
              "            style=\"display:none;\">\n",
              "\n",
              "  <svg xmlns=\"http://www.w3.org/2000/svg\" height=\"24px\" viewBox=\"0 -960 960 960\">\n",
              "    <path d=\"M120-120v-720h720v720H120Zm60-500h600v-160H180v160Zm220 220h160v-160H400v160Zm0 220h160v-160H400v160ZM180-400h160v-160H180v160Zm440 0h160v-160H620v160ZM180-180h160v-160H180v160Zm440 0h160v-160H620v160Z\"/>\n",
              "  </svg>\n",
              "    </button>\n",
              "\n",
              "  <style>\n",
              "    .colab-df-container {\n",
              "      display:flex;\n",
              "      gap: 12px;\n",
              "    }\n",
              "\n",
              "    .colab-df-convert {\n",
              "      background-color: #E8F0FE;\n",
              "      border: none;\n",
              "      border-radius: 50%;\n",
              "      cursor: pointer;\n",
              "      display: none;\n",
              "      fill: #1967D2;\n",
              "      height: 32px;\n",
              "      padding: 0 0 0 0;\n",
              "      width: 32px;\n",
              "    }\n",
              "\n",
              "    .colab-df-convert:hover {\n",
              "      background-color: #E2EBFA;\n",
              "      box-shadow: 0px 1px 2px rgba(60, 64, 67, 0.3), 0px 1px 3px 1px rgba(60, 64, 67, 0.15);\n",
              "      fill: #174EA6;\n",
              "    }\n",
              "\n",
              "    .colab-df-buttons div {\n",
              "      margin-bottom: 4px;\n",
              "    }\n",
              "\n",
              "    [theme=dark] .colab-df-convert {\n",
              "      background-color: #3B4455;\n",
              "      fill: #D2E3FC;\n",
              "    }\n",
              "\n",
              "    [theme=dark] .colab-df-convert:hover {\n",
              "      background-color: #434B5C;\n",
              "      box-shadow: 0px 1px 3px 1px rgba(0, 0, 0, 0.15);\n",
              "      filter: drop-shadow(0px 1px 2px rgba(0, 0, 0, 0.3));\n",
              "      fill: #FFFFFF;\n",
              "    }\n",
              "  </style>\n",
              "\n",
              "    <script>\n",
              "      const buttonEl =\n",
              "        document.querySelector('#df-5abe107a-5697-41df-9542-22a5b06fa382 button.colab-df-convert');\n",
              "      buttonEl.style.display =\n",
              "        google.colab.kernel.accessAllowed ? 'block' : 'none';\n",
              "\n",
              "      async function convertToInteractive(key) {\n",
              "        const element = document.querySelector('#df-5abe107a-5697-41df-9542-22a5b06fa382');\n",
              "        const dataTable =\n",
              "          await google.colab.kernel.invokeFunction('convertToInteractive',\n",
              "                                                    [key], {});\n",
              "        if (!dataTable) return;\n",
              "\n",
              "        const docLinkHtml = 'Like what you see? Visit the ' +\n",
              "          '<a target=\"_blank\" href=https://colab.research.google.com/notebooks/data_table.ipynb>data table notebook</a>'\n",
              "          + ' to learn more about interactive tables.';\n",
              "        element.innerHTML = '';\n",
              "        dataTable['output_type'] = 'display_data';\n",
              "        await google.colab.output.renderOutput(dataTable, element);\n",
              "        const docLink = document.createElement('div');\n",
              "        docLink.innerHTML = docLinkHtml;\n",
              "        element.appendChild(docLink);\n",
              "      }\n",
              "    </script>\n",
              "  </div>\n",
              "\n",
              "\n",
              "<div id=\"df-ee83acbd-b284-4431-8d5f-8d7bd865ce64\">\n",
              "  <button class=\"colab-df-quickchart\" onclick=\"quickchart('df-ee83acbd-b284-4431-8d5f-8d7bd865ce64')\"\n",
              "            title=\"Suggest charts\"\n",
              "            style=\"display:none;\">\n",
              "\n",
              "<svg xmlns=\"http://www.w3.org/2000/svg\" height=\"24px\"viewBox=\"0 0 24 24\"\n",
              "     width=\"24px\">\n",
              "    <g>\n",
              "        <path d=\"M19 3H5c-1.1 0-2 .9-2 2v14c0 1.1.9 2 2 2h14c1.1 0 2-.9 2-2V5c0-1.1-.9-2-2-2zM9 17H7v-7h2v7zm4 0h-2V7h2v10zm4 0h-2v-4h2v4z\"/>\n",
              "    </g>\n",
              "</svg>\n",
              "  </button>\n",
              "\n",
              "<style>\n",
              "  .colab-df-quickchart {\n",
              "      --bg-color: #E8F0FE;\n",
              "      --fill-color: #1967D2;\n",
              "      --hover-bg-color: #E2EBFA;\n",
              "      --hover-fill-color: #174EA6;\n",
              "      --disabled-fill-color: #AAA;\n",
              "      --disabled-bg-color: #DDD;\n",
              "  }\n",
              "\n",
              "  [theme=dark] .colab-df-quickchart {\n",
              "      --bg-color: #3B4455;\n",
              "      --fill-color: #D2E3FC;\n",
              "      --hover-bg-color: #434B5C;\n",
              "      --hover-fill-color: #FFFFFF;\n",
              "      --disabled-bg-color: #3B4455;\n",
              "      --disabled-fill-color: #666;\n",
              "  }\n",
              "\n",
              "  .colab-df-quickchart {\n",
              "    background-color: var(--bg-color);\n",
              "    border: none;\n",
              "    border-radius: 50%;\n",
              "    cursor: pointer;\n",
              "    display: none;\n",
              "    fill: var(--fill-color);\n",
              "    height: 32px;\n",
              "    padding: 0;\n",
              "    width: 32px;\n",
              "  }\n",
              "\n",
              "  .colab-df-quickchart:hover {\n",
              "    background-color: var(--hover-bg-color);\n",
              "    box-shadow: 0 1px 2px rgba(60, 64, 67, 0.3), 0 1px 3px 1px rgba(60, 64, 67, 0.15);\n",
              "    fill: var(--button-hover-fill-color);\n",
              "  }\n",
              "\n",
              "  .colab-df-quickchart-complete:disabled,\n",
              "  .colab-df-quickchart-complete:disabled:hover {\n",
              "    background-color: var(--disabled-bg-color);\n",
              "    fill: var(--disabled-fill-color);\n",
              "    box-shadow: none;\n",
              "  }\n",
              "\n",
              "  .colab-df-spinner {\n",
              "    border: 2px solid var(--fill-color);\n",
              "    border-color: transparent;\n",
              "    border-bottom-color: var(--fill-color);\n",
              "    animation:\n",
              "      spin 1s steps(1) infinite;\n",
              "  }\n",
              "\n",
              "  @keyframes spin {\n",
              "    0% {\n",
              "      border-color: transparent;\n",
              "      border-bottom-color: var(--fill-color);\n",
              "      border-left-color: var(--fill-color);\n",
              "    }\n",
              "    20% {\n",
              "      border-color: transparent;\n",
              "      border-left-color: var(--fill-color);\n",
              "      border-top-color: var(--fill-color);\n",
              "    }\n",
              "    30% {\n",
              "      border-color: transparent;\n",
              "      border-left-color: var(--fill-color);\n",
              "      border-top-color: var(--fill-color);\n",
              "      border-right-color: var(--fill-color);\n",
              "    }\n",
              "    40% {\n",
              "      border-color: transparent;\n",
              "      border-right-color: var(--fill-color);\n",
              "      border-top-color: var(--fill-color);\n",
              "    }\n",
              "    60% {\n",
              "      border-color: transparent;\n",
              "      border-right-color: var(--fill-color);\n",
              "    }\n",
              "    80% {\n",
              "      border-color: transparent;\n",
              "      border-right-color: var(--fill-color);\n",
              "      border-bottom-color: var(--fill-color);\n",
              "    }\n",
              "    90% {\n",
              "      border-color: transparent;\n",
              "      border-bottom-color: var(--fill-color);\n",
              "    }\n",
              "  }\n",
              "</style>\n",
              "\n",
              "  <script>\n",
              "    async function quickchart(key) {\n",
              "      const quickchartButtonEl =\n",
              "        document.querySelector('#' + key + ' button');\n",
              "      quickchartButtonEl.disabled = true;  // To prevent multiple clicks.\n",
              "      quickchartButtonEl.classList.add('colab-df-spinner');\n",
              "      try {\n",
              "        const charts = await google.colab.kernel.invokeFunction(\n",
              "            'suggestCharts', [key], {});\n",
              "      } catch (error) {\n",
              "        console.error('Error during call to suggestCharts:', error);\n",
              "      }\n",
              "      quickchartButtonEl.classList.remove('colab-df-spinner');\n",
              "      quickchartButtonEl.classList.add('colab-df-quickchart-complete');\n",
              "    }\n",
              "    (() => {\n",
              "      let quickchartButtonEl =\n",
              "        document.querySelector('#df-ee83acbd-b284-4431-8d5f-8d7bd865ce64 button');\n",
              "      quickchartButtonEl.style.display =\n",
              "        google.colab.kernel.accessAllowed ? 'block' : 'none';\n",
              "    })();\n",
              "  </script>\n",
              "</div>\n",
              "    </div>\n",
              "  </div>\n"
            ],
            "application/vnd.google.colaboratory.intrinsic+json": {
              "type": "dataframe",
              "variable_name": "df",
              "summary": "{\n  \"name\": \"df\",\n  \"rows\": 19237,\n  \"fields\": [\n    {\n      \"column\": \"Price\",\n      \"properties\": {\n        \"dtype\": \"number\",\n        \"std\": 190581,\n        \"min\": 1,\n        \"max\": 26307500,\n        \"num_unique_values\": 2315,\n        \"samples\": [\n          31650,\n          10914,\n          9408\n        ],\n        \"semantic_type\": \"\",\n        \"description\": \"\"\n      }\n    },\n    {\n      \"column\": \"Manufacturer\",\n      \"properties\": {\n        \"dtype\": \"category\",\n        \"num_unique_values\": 65,\n        \"samples\": [\n          \"SEAT\",\n          \"ROLLS-ROYCE\",\n          \"LEXUS\"\n        ],\n        \"semantic_type\": \"\",\n        \"description\": \"\"\n      }\n    },\n    {\n      \"column\": \"Model\",\n      \"properties\": {\n        \"dtype\": \"category\",\n        \"num_unique_values\": 1590,\n        \"samples\": [\n          \"Fusion Bybrid\",\n          \"Bluebird\",\n          \"Prius Plug in\"\n        ],\n        \"semantic_type\": \"\",\n        \"description\": \"\"\n      }\n    },\n    {\n      \"column\": \"Prod. year\",\n      \"properties\": {\n        \"dtype\": \"number\",\n        \"std\": 5,\n        \"min\": 1939,\n        \"max\": 2020,\n        \"num_unique_values\": 54,\n        \"samples\": [\n          2004,\n          1968,\n          1939\n        ],\n        \"semantic_type\": \"\",\n        \"description\": \"\"\n      }\n    },\n    {\n      \"column\": \"Category\",\n      \"properties\": {\n        \"dtype\": \"category\",\n        \"num_unique_values\": 11,\n        \"samples\": [\n          \"Universal\",\n          \"Jeep\",\n          \"Limousine\"\n        ],\n        \"semantic_type\": \"\",\n        \"description\": \"\"\n      }\n    },\n    {\n      \"column\": \"Leather interior\",\n      \"properties\": {\n        \"dtype\": \"category\",\n        \"num_unique_values\": 2,\n        \"samples\": [\n          \"No\",\n          \"Yes\"\n        ],\n        \"semantic_type\": \"\",\n        \"description\": \"\"\n      }\n    },\n    {\n      \"column\": \"Fuel type\",\n      \"properties\": {\n        \"dtype\": \"category\",\n        \"num_unique_values\": 7,\n        \"samples\": [\n          \"Hybrid\",\n          \"Petrol\"\n        ],\n        \"semantic_type\": \"\",\n        \"description\": \"\"\n      }\n    },\n    {\n      \"column\": \"Engine volume\",\n      \"properties\": {\n        \"dtype\": \"category\",\n        \"num_unique_values\": 70,\n        \"samples\": [\n          \"3.8\",\n          \"3.5\"\n        ],\n        \"semantic_type\": \"\",\n        \"description\": \"\"\n      }\n    },\n    {\n      \"column\": \"Mileage\",\n      \"properties\": {\n        \"dtype\": \"number\",\n        \"std\": 48403869.37929029,\n        \"min\": 0.0,\n        \"max\": 2147483647.0,\n        \"num_unique_values\": 7687,\n        \"samples\": [\n          20147.0,\n          70800.0\n        ],\n        \"semantic_type\": \"\",\n        \"description\": \"\"\n      }\n    },\n    {\n      \"column\": \"Cylinders\",\n      \"properties\": {\n        \"dtype\": \"number\",\n        \"std\": 1.1999331679654894,\n        \"min\": 1.0,\n        \"max\": 16.0,\n        \"num_unique_values\": 13,\n        \"samples\": [\n          10.0,\n          7.0\n        ],\n        \"semantic_type\": \"\",\n        \"description\": \"\"\n      }\n    },\n    {\n      \"column\": \"Gear box type\",\n      \"properties\": {\n        \"dtype\": \"category\",\n        \"num_unique_values\": 4,\n        \"samples\": [\n          \"Tiptronic\",\n          \"Manual\"\n        ],\n        \"semantic_type\": \"\",\n        \"description\": \"\"\n      }\n    },\n    {\n      \"column\": \"Drive wheels\",\n      \"properties\": {\n        \"dtype\": \"category\",\n        \"num_unique_values\": 3,\n        \"samples\": [\n          \"4x4\",\n          \"Front\"\n        ],\n        \"semantic_type\": \"\",\n        \"description\": \"\"\n      }\n    },\n    {\n      \"column\": \"Doors\",\n      \"properties\": {\n        \"dtype\": \"number\",\n        \"std\": 0,\n        \"min\": 2,\n        \"max\": 5,\n        \"num_unique_values\": 3,\n        \"samples\": [\n          4,\n          2\n        ],\n        \"semantic_type\": \"\",\n        \"description\": \"\"\n      }\n    },\n    {\n      \"column\": \"Drive\",\n      \"properties\": {\n        \"dtype\": \"number\",\n        \"std\": 0,\n        \"min\": 0,\n        \"max\": 1,\n        \"num_unique_values\": 2,\n        \"samples\": [\n          1,\n          0\n        ],\n        \"semantic_type\": \"\",\n        \"description\": \"\"\n      }\n    },\n    {\n      \"column\": \"Color\",\n      \"properties\": {\n        \"dtype\": \"category\",\n        \"num_unique_values\": 16,\n        \"samples\": [\n          \"Silver\",\n          \"Black\"\n        ],\n        \"semantic_type\": \"\",\n        \"description\": \"\"\n      }\n    },\n    {\n      \"column\": \"Airbags\",\n      \"properties\": {\n        \"dtype\": \"number\",\n        \"std\": 4,\n        \"min\": 0,\n        \"max\": 16,\n        \"num_unique_values\": 17,\n        \"samples\": [\n          12,\n          8\n        ],\n        \"semantic_type\": \"\",\n        \"description\": \"\"\n      }\n    },\n    {\n      \"column\": \"Turbo\",\n      \"properties\": {\n        \"dtype\": \"number\",\n        \"std\": 0,\n        \"min\": 0,\n        \"max\": 1,\n        \"num_unique_values\": 2,\n        \"samples\": [\n          1,\n          0\n        ],\n        \"semantic_type\": \"\",\n        \"description\": \"\"\n      }\n    }\n  ]\n}"
            }
          },
          "metadata": {},
          "execution_count": 21
        }
      ]
    },
    {
      "cell_type": "code",
      "source": [
        "upper_limit = df['Price'].quantile(0.95)\n",
        "lower_limit = df['Price'].quantile(0.05)\n",
        "print(\"Price_Upper limit\",upper_limit)\n",
        "print(\"Price_Lower limit\",lower_limit)"
      ],
      "metadata": {
        "colab": {
          "base_uri": "https://localhost:8080/"
        },
        "id": "BRhgvAmmE-Cm",
        "outputId": "cee3a390-c846-4e7c-a78b-c03b97b2c986"
      },
      "execution_count": 22,
      "outputs": [
        {
          "output_type": "stream",
          "name": "stdout",
          "text": [
            "Price_Upper limit 49459.0\n",
            "Price_Lower limit 314.0\n"
          ]
        }
      ]
    },
    {
      "cell_type": "code",
      "source": [
        "upper_limit2 = df['Mileage'].quantile(0.98)\n",
        "lower_limit2 = df['Mileage'].quantile(0.02)\n",
        "print(\"Mileage_Upper limit\",upper_limit2)\n",
        "print(\"Mileage_Lower limit\",lower_limit2)"
      ],
      "metadata": {
        "colab": {
          "base_uri": "https://localhost:8080/"
        },
        "id": "INI58yRHOkRY",
        "outputId": "d9784ef8-5358-41a7-f418-52225a9824ea"
      },
      "execution_count": 23,
      "outputs": [
        {
          "output_type": "stream",
          "name": "stdout",
          "text": [
            "Mileage_Upper limit 430000.0\n",
            "Mileage_Lower limit 0.0\n"
          ]
        }
      ]
    },
    {
      "cell_type": "code",
      "source": [
        "df = df[(df['Price'] < upper_limit) & (df['Price'] > lower_limit)].reset_index(drop=True)\n",
        "df = df[(df['Mileage'] < upper_limit2) & (df['Mileage'] > lower_limit2)].reset_index(drop=True)\n",
        "df.shape"
      ],
      "metadata": {
        "colab": {
          "base_uri": "https://localhost:8080/"
        },
        "id": "FGmig3EUN0Np",
        "outputId": "ace010f4-ced0-4614-8d47-12b7a2a0853b"
      },
      "execution_count": 24,
      "outputs": [
        {
          "output_type": "execute_result",
          "data": {
            "text/plain": [
              "(16145, 17)"
            ]
          },
          "metadata": {},
          "execution_count": 24
        }
      ]
    },
    {
      "cell_type": "code",
      "source": [
        "num_attribs = ['Prod. year','Mileage','Cylinders','Engine volume','Airbags']\n",
        "cat_attribs = ['Manufacturer','Model','Category','Leather interior','Fuel type','Turbo','Gear box type','Drive wheels','Doors','Drive','Color']"
      ],
      "metadata": {
        "id": "P09Aw1_ECEhL"
      },
      "execution_count": 25,
      "outputs": []
    },
    {
      "cell_type": "code",
      "source": [
        "X = df.drop('Price',axis=1)\n",
        "y = df[['Price']]"
      ],
      "metadata": {
        "id": "KabbPezzMxem"
      },
      "execution_count": 26,
      "outputs": []
    },
    {
      "cell_type": "code",
      "source": [
        "num_pipeline = make_pipeline(StandardScaler())\n",
        "cat_pipeline = make_pipeline(OneHotEncoder(handle_unknown=\"ignore\"))\n",
        "\n",
        "preprocessing = ColumnTransformer([\n",
        "    (\"num\", num_pipeline, num_attribs),\n",
        "    (\"cat\", cat_pipeline, cat_attribs),\n",
        "])\n",
        "\n",
        "X = preprocessing.fit_transform(X)"
      ],
      "metadata": {
        "id": "sLbcesglF394"
      },
      "execution_count": 27,
      "outputs": []
    },
    {
      "cell_type": "code",
      "source": [
        "X = X.toarray()"
      ],
      "metadata": {
        "id": "4yqacAgJPfJY"
      },
      "execution_count": 28,
      "outputs": []
    },
    {
      "cell_type": "code",
      "source": [
        "std_scaler = StandardScaler()\n",
        "y = std_scaler.fit_transform(y)"
      ],
      "metadata": {
        "id": "97lRqCkRUtKh"
      },
      "execution_count": 29,
      "outputs": []
    },
    {
      "cell_type": "code",
      "source": [
        "X.shape"
      ],
      "metadata": {
        "colab": {
          "base_uri": "https://localhost:8080/"
        },
        "id": "tkNaWrVxHG1-",
        "outputId": "0bb02930-af1c-49ba-bf3a-9ee3648600aa"
      },
      "execution_count": 30,
      "outputs": [
        {
          "output_type": "execute_result",
          "data": {
            "text/plain": [
              "(16145, 1562)"
            ]
          },
          "metadata": {},
          "execution_count": 30
        }
      ]
    },
    {
      "cell_type": "code",
      "source": [
        "y.shape"
      ],
      "metadata": {
        "colab": {
          "base_uri": "https://localhost:8080/"
        },
        "id": "MGXBk8jqLp4J",
        "outputId": "07ea71de-dbc6-4b4c-b2d5-e527aa179dd1"
      },
      "execution_count": 31,
      "outputs": [
        {
          "output_type": "execute_result",
          "data": {
            "text/plain": [
              "(16145, 1)"
            ]
          },
          "metadata": {},
          "execution_count": 31
        }
      ]
    },
    {
      "cell_type": "markdown",
      "source": [
        "## 3. Data Modeling"
      ],
      "metadata": {
        "id": "y73qDRr9HREH"
      }
    },
    {
      "cell_type": "code",
      "source": [
        "import keras_tuner as kt\n",
        "import tensorflow as tf\n",
        "from tensorflow.keras.optimizers import RMSprop"
      ],
      "metadata": {
        "id": "l5fTLmzkGwyF"
      },
      "execution_count": 32,
      "outputs": []
    },
    {
      "cell_type": "code",
      "source": [
        " X_train, X_test, y_train, y_test = train_test_split(X, y, test_size=0.2, random_state=1)\n",
        " X_train, X_valid, y_train, y_valid  = train_test_split(X_train, y_train, test_size=0.25, random_state=1)"
      ],
      "metadata": {
        "id": "t0fSorguQPUk"
      },
      "execution_count": 33,
      "outputs": []
    },
    {
      "cell_type": "code",
      "source": [
        "input_shape = X_train.shape[1:]"
      ],
      "metadata": {
        "id": "ponTACvLnxxn"
      },
      "execution_count": 34,
      "outputs": []
    },
    {
      "cell_type": "code",
      "source": [
        "def build_model(hp):\n",
        "    n_hidden = hp.Int(\"n_hidden\", min_value=2, max_value=5)\n",
        "    n_neurons = hp.Int(\"n_neurons\", min_value=1000, max_value=1500)\n",
        "    hp_learning_rate = hp.Choice('learning_rate', values = [1e-2, 1e-3, 1e-4, 1e-5])\n",
        "    optimizer = RMSprop(learning_rate = hp_learning_rate)\n",
        "    model = tf.keras.Sequential()\n",
        "    model.add(tf.keras.layers.Flatten(input_shape=input_shape))\n",
        "    for _ in range(n_hidden):\n",
        "        model.add(tf.keras.layers.Dense(n_neurons, activation=\"relu\"))\n",
        "    model.add(tf.keras.layers.Dense(1, activation='linear'))\n",
        "    model.compile(loss=\"mse\", optimizer=optimizer,\n",
        "                  metrics=[\"mse\"])\n",
        "    return model"
      ],
      "metadata": {
        "id": "VvAfEsmpIdth"
      },
      "execution_count": 35,
      "outputs": []
    },
    {
      "cell_type": "code",
      "source": [
        "random_search_tuner = kt.RandomSearch(\n",
        "    build_model, objective=\"mse\", max_trials=5, overwrite=True,\n",
        "    directory=\"random_search\", seed=42)\n",
        "random_search_tuner.search(X_train, y_train, epochs=10,\n",
        "                           validation_data=(X_valid, y_valid))"
      ],
      "metadata": {
        "colab": {
          "base_uri": "https://localhost:8080/"
        },
        "id": "paLQY-86O2je",
        "outputId": "879f8f53-008d-4929-b351-2281c4119acf"
      },
      "execution_count": 36,
      "outputs": [
        {
          "output_type": "stream",
          "name": "stdout",
          "text": [
            "Trial 5 Complete [00h 03m 49s]\n",
            "mse: 0.2660503387451172\n",
            "\n",
            "Best mse So Far: 0.15798704326152802\n",
            "Total elapsed time: 00h 17m 58s\n"
          ]
        }
      ]
    },
    {
      "cell_type": "code",
      "source": [
        "best_trial = random_search_tuner.oracle.get_best_trials(num_trials=1)[0]\n",
        "best_trial.summary()"
      ],
      "metadata": {
        "id": "c2F3HISDSF0_",
        "colab": {
          "base_uri": "https://localhost:8080/"
        },
        "outputId": "d8109577-a4f0-4fcd-8dd9-72b6ac3d483c"
      },
      "execution_count": 37,
      "outputs": [
        {
          "output_type": "stream",
          "name": "stdout",
          "text": [
            "Trial 0 summary\n",
            "Hyperparameters:\n",
            "n_hidden: 4\n",
            "n_neurons: 1019\n",
            "learning_rate: 0.001\n",
            "Score: 0.15798704326152802\n"
          ]
        }
      ]
    },
    {
      "cell_type": "code",
      "source": [
        "top3_params = random_search_tuner.get_best_hyperparameters(num_trials=3)\n",
        "best_params = top3_params[0].values\n",
        "lr = best_params['learning_rate']\n",
        "nr = best_params['n_neurons']\n",
        "hl = best_params['n_hidden']"
      ],
      "metadata": {
        "id": "kM4-BBd03H1Z"
      },
      "execution_count": 38,
      "outputs": []
    },
    {
      "cell_type": "code",
      "source": [
        "early_stopping_cb = tf.keras.callbacks.EarlyStopping(patience=15,\n",
        "                                                     restore_best_weights=True)\n",
        "model_checkpoint_cb = tf.keras.callbacks.ModelCheckpoint(\"my_Carprice_prediction_model\",\n",
        "                                                         save_best_only=True)\n",
        "lr_scheduler = tf.keras.callbacks.ReduceLROnPlateau(factor=0.5, patience=5)"
      ],
      "metadata": {
        "id": "3X_dpGnDl7UB"
      },
      "execution_count": 39,
      "outputs": []
    },
    {
      "cell_type": "code",
      "source": [
        "tf.random.set_seed(42)\n",
        "\n",
        "model = tf.keras.Sequential()\n",
        "model.add(tf.keras.layers.Flatten(input_shape=input_shape))\n",
        "\n",
        "for _ in range(hl) :\n",
        "  model.add(tf.keras.layers.Dense(nr, kernel_initializer=\"he_normal\", activation=\"relu\"))\n",
        "\n",
        "model.add(tf.keras.layers.Dense(1, activation='linear'))\n",
        "\n",
        "optimizer = RMSprop(learning_rate = lr)\n",
        "model.compile(loss=\"mse\", optimizer=optimizer, metrics=[\"mse\"])\n",
        "history = model.fit(X_train, y_train, epochs=100,\n",
        "                    validation_data=(X_valid, y_valid),\n",
        "                    callbacks=[early_stopping_cb, model_checkpoint_cb, lr_scheduler])\n",
        "\n",
        "mse_test, rmse_test = model.evaluate(X_test, y_test)\n",
        "print('The MSE value is: ', mse_test)\n",
        "print('The RMSE value is: ', rmse_test)"
      ],
      "metadata": {
        "colab": {
          "base_uri": "https://localhost:8080/"
        },
        "id": "vOPhz1k9m9US",
        "outputId": "d89bcdc9-e865-452f-89a4-2470fe3fbe99"
      },
      "execution_count": 40,
      "outputs": [
        {
          "output_type": "stream",
          "name": "stdout",
          "text": [
            "Epoch 1/100\n",
            "303/303 [==============================] - 21s 67ms/step - loss: 0.6108 - mse: 0.6108 - val_loss: 0.6297 - val_mse: 0.6297 - lr: 0.0010\n",
            "Epoch 2/100\n",
            "303/303 [==============================] - 19s 61ms/step - loss: 0.3418 - mse: 0.3418 - val_loss: 0.3654 - val_mse: 0.3654 - lr: 0.0010\n",
            "Epoch 3/100\n",
            "303/303 [==============================] - 21s 71ms/step - loss: 0.2906 - mse: 0.2906 - val_loss: 0.2859 - val_mse: 0.2859 - lr: 0.0010\n",
            "Epoch 4/100\n",
            "303/303 [==============================] - 18s 60ms/step - loss: 0.2548 - mse: 0.2548 - val_loss: 0.3139 - val_mse: 0.3139 - lr: 0.0010\n",
            "Epoch 5/100\n",
            "303/303 [==============================] - 18s 60ms/step - loss: 0.2264 - mse: 0.2264 - val_loss: 0.3106 - val_mse: 0.3106 - lr: 0.0010\n",
            "Epoch 6/100\n",
            "303/303 [==============================] - 20s 65ms/step - loss: 0.2084 - mse: 0.2084 - val_loss: 0.3358 - val_mse: 0.3358 - lr: 0.0010\n",
            "Epoch 7/100\n",
            "303/303 [==============================] - 19s 64ms/step - loss: 0.1874 - mse: 0.1874 - val_loss: 0.2796 - val_mse: 0.2796 - lr: 0.0010\n",
            "Epoch 8/100\n",
            "303/303 [==============================] - 21s 68ms/step - loss: 0.1707 - mse: 0.1707 - val_loss: 0.3272 - val_mse: 0.3272 - lr: 0.0010\n",
            "Epoch 9/100\n",
            "303/303 [==============================] - 19s 62ms/step - loss: 0.1619 - mse: 0.1619 - val_loss: 0.2946 - val_mse: 0.2946 - lr: 0.0010\n",
            "Epoch 10/100\n",
            "303/303 [==============================] - 20s 65ms/step - loss: 0.1491 - mse: 0.1491 - val_loss: 0.2668 - val_mse: 0.2668 - lr: 0.0010\n",
            "Epoch 11/100\n",
            "303/303 [==============================] - 20s 65ms/step - loss: 0.1422 - mse: 0.1422 - val_loss: 0.3135 - val_mse: 0.3135 - lr: 0.0010\n",
            "Epoch 12/100\n",
            "303/303 [==============================] - 18s 60ms/step - loss: 0.1330 - mse: 0.1330 - val_loss: 0.2988 - val_mse: 0.2988 - lr: 0.0010\n",
            "Epoch 13/100\n",
            "303/303 [==============================] - 20s 66ms/step - loss: 0.1273 - mse: 0.1273 - val_loss: 0.2821 - val_mse: 0.2821 - lr: 0.0010\n",
            "Epoch 14/100\n",
            "303/303 [==============================] - 19s 61ms/step - loss: 0.1192 - mse: 0.1192 - val_loss: 0.2691 - val_mse: 0.2691 - lr: 0.0010\n",
            "Epoch 15/100\n",
            "303/303 [==============================] - 18s 61ms/step - loss: 0.1105 - mse: 0.1105 - val_loss: 0.3332 - val_mse: 0.3332 - lr: 0.0010\n",
            "Epoch 16/100\n",
            "303/303 [==============================] - 20s 65ms/step - loss: 0.0836 - mse: 0.0836 - val_loss: 0.2670 - val_mse: 0.2670 - lr: 5.0000e-04\n",
            "Epoch 17/100\n",
            "303/303 [==============================] - 19s 64ms/step - loss: 0.0763 - mse: 0.0763 - val_loss: 0.2643 - val_mse: 0.2643 - lr: 5.0000e-04\n",
            "Epoch 18/100\n",
            "303/303 [==============================] - 21s 69ms/step - loss: 0.0713 - mse: 0.0713 - val_loss: 0.2600 - val_mse: 0.2600 - lr: 5.0000e-04\n",
            "Epoch 19/100\n",
            "303/303 [==============================] - 19s 63ms/step - loss: 0.0677 - mse: 0.0677 - val_loss: 0.2625 - val_mse: 0.2625 - lr: 5.0000e-04\n",
            "Epoch 20/100\n",
            "303/303 [==============================] - 20s 66ms/step - loss: 0.0659 - mse: 0.0659 - val_loss: 0.2668 - val_mse: 0.2668 - lr: 5.0000e-04\n",
            "Epoch 21/100\n",
            "303/303 [==============================] - 19s 62ms/step - loss: 0.0630 - mse: 0.0630 - val_loss: 0.2666 - val_mse: 0.2666 - lr: 5.0000e-04\n",
            "Epoch 22/100\n",
            "303/303 [==============================] - 18s 60ms/step - loss: 0.0604 - mse: 0.0604 - val_loss: 0.2698 - val_mse: 0.2698 - lr: 5.0000e-04\n",
            "Epoch 23/100\n",
            "303/303 [==============================] - 20s 66ms/step - loss: 0.0592 - mse: 0.0592 - val_loss: 0.2709 - val_mse: 0.2709 - lr: 5.0000e-04\n",
            "Epoch 24/100\n",
            "303/303 [==============================] - 19s 63ms/step - loss: 0.0494 - mse: 0.0494 - val_loss: 0.2654 - val_mse: 0.2654 - lr: 2.5000e-04\n",
            "Epoch 25/100\n",
            "303/303 [==============================] - 19s 63ms/step - loss: 0.0459 - mse: 0.0459 - val_loss: 0.2610 - val_mse: 0.2610 - lr: 2.5000e-04\n",
            "Epoch 26/100\n",
            "303/303 [==============================] - 20s 65ms/step - loss: 0.0443 - mse: 0.0443 - val_loss: 0.2609 - val_mse: 0.2609 - lr: 2.5000e-04\n",
            "Epoch 27/100\n",
            "303/303 [==============================] - 19s 61ms/step - loss: 0.0432 - mse: 0.0432 - val_loss: 0.2604 - val_mse: 0.2604 - lr: 2.5000e-04\n",
            "Epoch 28/100\n",
            "303/303 [==============================] - 20s 65ms/step - loss: 0.0426 - mse: 0.0426 - val_loss: 0.2645 - val_mse: 0.2645 - lr: 2.5000e-04\n",
            "Epoch 29/100\n",
            "303/303 [==============================] - 19s 64ms/step - loss: 0.0380 - mse: 0.0380 - val_loss: 0.2592 - val_mse: 0.2592 - lr: 1.2500e-04\n",
            "Epoch 30/100\n",
            "303/303 [==============================] - 18s 59ms/step - loss: 0.0368 - mse: 0.0368 - val_loss: 0.2619 - val_mse: 0.2619 - lr: 1.2500e-04\n",
            "Epoch 31/100\n",
            "303/303 [==============================] - 20s 65ms/step - loss: 0.0362 - mse: 0.0362 - val_loss: 0.2608 - val_mse: 0.2608 - lr: 1.2500e-04\n",
            "Epoch 32/100\n",
            "303/303 [==============================] - 18s 60ms/step - loss: 0.0356 - mse: 0.0356 - val_loss: 0.2593 - val_mse: 0.2593 - lr: 1.2500e-04\n",
            "Epoch 33/100\n",
            "303/303 [==============================] - 21s 68ms/step - loss: 0.0351 - mse: 0.0351 - val_loss: 0.2583 - val_mse: 0.2583 - lr: 1.2500e-04\n",
            "Epoch 34/100\n",
            "303/303 [==============================] - 19s 62ms/step - loss: 0.0346 - mse: 0.0346 - val_loss: 0.2618 - val_mse: 0.2618 - lr: 1.2500e-04\n",
            "Epoch 35/100\n",
            "303/303 [==============================] - 18s 60ms/step - loss: 0.0343 - mse: 0.0343 - val_loss: 0.2631 - val_mse: 0.2631 - lr: 1.2500e-04\n",
            "Epoch 36/100\n",
            "303/303 [==============================] - 20s 65ms/step - loss: 0.0340 - mse: 0.0340 - val_loss: 0.2618 - val_mse: 0.2618 - lr: 1.2500e-04\n",
            "Epoch 37/100\n",
            "303/303 [==============================] - 18s 59ms/step - loss: 0.0334 - mse: 0.0334 - val_loss: 0.2629 - val_mse: 0.2629 - lr: 1.2500e-04\n",
            "Epoch 38/100\n",
            "303/303 [==============================] - 18s 60ms/step - loss: 0.0329 - mse: 0.0329 - val_loss: 0.2616 - val_mse: 0.2616 - lr: 1.2500e-04\n",
            "Epoch 39/100\n",
            "303/303 [==============================] - 20s 67ms/step - loss: 0.0310 - mse: 0.0310 - val_loss: 0.2617 - val_mse: 0.2617 - lr: 6.2500e-05\n",
            "Epoch 40/100\n",
            "303/303 [==============================] - 19s 61ms/step - loss: 0.0304 - mse: 0.0304 - val_loss: 0.2620 - val_mse: 0.2620 - lr: 6.2500e-05\n",
            "Epoch 41/100\n",
            "303/303 [==============================] - 19s 63ms/step - loss: 0.0302 - mse: 0.0302 - val_loss: 0.2635 - val_mse: 0.2635 - lr: 6.2500e-05\n",
            "Epoch 42/100\n",
            "303/303 [==============================] - 20s 65ms/step - loss: 0.0300 - mse: 0.0300 - val_loss: 0.2609 - val_mse: 0.2609 - lr: 6.2500e-05\n",
            "Epoch 43/100\n",
            "303/303 [==============================] - 19s 61ms/step - loss: 0.0297 - mse: 0.0297 - val_loss: 0.2611 - val_mse: 0.2611 - lr: 6.2500e-05\n",
            "Epoch 44/100\n",
            "303/303 [==============================] - 19s 63ms/step - loss: 0.0288 - mse: 0.0288 - val_loss: 0.2635 - val_mse: 0.2635 - lr: 3.1250e-05\n",
            "Epoch 45/100\n",
            "303/303 [==============================] - 33s 109ms/step - loss: 0.0286 - mse: 0.0286 - val_loss: 0.2627 - val_mse: 0.2627 - lr: 3.1250e-05\n",
            "Epoch 46/100\n",
            "303/303 [==============================] - 19s 62ms/step - loss: 0.0283 - mse: 0.0283 - val_loss: 0.2628 - val_mse: 0.2628 - lr: 3.1250e-05\n",
            "Epoch 47/100\n",
            "303/303 [==============================] - 30s 100ms/step - loss: 0.0282 - mse: 0.0282 - val_loss: 0.2643 - val_mse: 0.2643 - lr: 3.1250e-05\n",
            "Epoch 48/100\n",
            "303/303 [==============================] - 32s 106ms/step - loss: 0.0281 - mse: 0.0281 - val_loss: 0.2625 - val_mse: 0.2625 - lr: 3.1250e-05\n",
            "101/101 [==============================] - 1s 11ms/step - loss: 0.2334 - mse: 0.2334\n",
            "The MSE value is:  0.23343484103679657\n",
            "The RMSE value is:  0.23343484103679657\n"
          ]
        }
      ]
    },
    {
      "cell_type": "markdown",
      "source": [
        "### Next, let's try regularization."
      ],
      "metadata": {
        "id": "gc4mygDhSZWD"
      }
    },
    {
      "cell_type": "markdown",
      "source": [
        "method1 : l2 regularization(Ridge)"
      ],
      "metadata": {
        "id": "yl9dwMdtVkZ6"
      }
    },
    {
      "cell_type": "code",
      "source": [
        "tf.random.set_seed(42)\n",
        "\n",
        "model = tf.keras.Sequential()\n",
        "model.add(tf.keras.layers.Flatten(input_shape=input_shape))\n",
        "\n",
        "for _ in range(hl) :\n",
        "  model.add(tf.keras.layers.Dense(nr, kernel_initializer=\"he_normal\", activation=\"relu\", kernel_regularizer=tf.keras.regularizers.l2(0.001)))\n",
        "\n",
        "model.add(tf.keras.layers.Dense(1, activation='linear'))\n",
        "\n",
        "optimizer = RMSprop(learning_rate = lr)\n",
        "model.compile(loss=\"mse\", optimizer=optimizer, metrics=[\"mse\"])\n",
        "history = model.fit(X_train, y_train, epochs=100,\n",
        "                    validation_data=(X_valid, y_valid),\n",
        "                    callbacks=[early_stopping_cb, model_checkpoint_cb, lr_scheduler])\n",
        "\n",
        "mse_test, rmse_test = model.evaluate(X_test, y_test)\n",
        "print('The MSE value is: ', mse_test)\n",
        "print('The RMSE value is: ', rmse_test)"
      ],
      "metadata": {
        "colab": {
          "base_uri": "https://localhost:8080/"
        },
        "id": "pYXh8hkIVkDH",
        "outputId": "d5be0bdf-6ec0-45e7-8694-0c4e686e3c5f"
      },
      "execution_count": 41,
      "outputs": [
        {
          "output_type": "stream",
          "name": "stdout",
          "text": [
            "Epoch 1/100\n",
            "303/303 [==============================] - 23s 73ms/step - loss: 3.5883 - mse: 0.6858 - val_loss: 1.3424 - val_mse: 0.8314 - lr: 0.0010\n",
            "Epoch 2/100\n",
            "303/303 [==============================] - 22s 71ms/step - loss: 0.5982 - mse: 0.3756 - val_loss: 0.4754 - val_mse: 0.3693 - lr: 0.0010\n",
            "Epoch 3/100\n",
            "303/303 [==============================] - 21s 69ms/step - loss: 0.4242 - mse: 0.3412 - val_loss: 0.3819 - val_mse: 0.3123 - lr: 0.0010\n",
            "Epoch 4/100\n",
            "303/303 [==============================] - 23s 77ms/step - loss: 0.3882 - mse: 0.3242 - val_loss: 0.4407 - val_mse: 0.3809 - lr: 0.0010\n",
            "Epoch 5/100\n",
            "303/303 [==============================] - 21s 70ms/step - loss: 0.3659 - mse: 0.3084 - val_loss: 0.4008 - val_mse: 0.3450 - lr: 0.0010\n",
            "Epoch 6/100\n",
            "303/303 [==============================] - 22s 73ms/step - loss: 0.3529 - mse: 0.2991 - val_loss: 0.4302 - val_mse: 0.3782 - lr: 0.0010\n",
            "Epoch 7/100\n",
            "303/303 [==============================] - 21s 69ms/step - loss: 0.3356 - mse: 0.2838 - val_loss: 0.3859 - val_mse: 0.3359 - lr: 0.0010\n",
            "Epoch 8/100\n",
            "303/303 [==============================] - 22s 73ms/step - loss: 0.3268 - mse: 0.2769 - val_loss: 0.3968 - val_mse: 0.3478 - lr: 0.0010\n",
            "Epoch 9/100\n",
            "303/303 [==============================] - 23s 77ms/step - loss: 0.2812 - mse: 0.2327 - val_loss: 0.3099 - val_mse: 0.2627 - lr: 5.0000e-04\n",
            "Epoch 10/100\n",
            "303/303 [==============================] - 21s 69ms/step - loss: 0.2663 - mse: 0.2189 - val_loss: 0.3025 - val_mse: 0.2554 - lr: 5.0000e-04\n",
            "Epoch 11/100\n",
            "303/303 [==============================] - 23s 75ms/step - loss: 0.2650 - mse: 0.2181 - val_loss: 0.3341 - val_mse: 0.2873 - lr: 5.0000e-04\n",
            "Epoch 12/100\n",
            "303/303 [==============================] - 20s 66ms/step - loss: 0.2560 - mse: 0.2097 - val_loss: 0.3002 - val_mse: 0.2543 - lr: 5.0000e-04\n",
            "Epoch 13/100\n",
            "303/303 [==============================] - 23s 74ms/step - loss: 0.2565 - mse: 0.2108 - val_loss: 0.3247 - val_mse: 0.2798 - lr: 5.0000e-04\n",
            "Epoch 14/100\n",
            "303/303 [==============================] - 20s 67ms/step - loss: 0.2477 - mse: 0.2025 - val_loss: 0.3139 - val_mse: 0.2688 - lr: 5.0000e-04\n",
            "Epoch 15/100\n",
            "303/303 [==============================] - 21s 70ms/step - loss: 0.2416 - mse: 0.1965 - val_loss: 0.3487 - val_mse: 0.3037 - lr: 5.0000e-04\n",
            "Epoch 16/100\n",
            "303/303 [==============================] - 20s 66ms/step - loss: 0.2451 - mse: 0.2005 - val_loss: 0.3040 - val_mse: 0.2593 - lr: 5.0000e-04\n",
            "Epoch 17/100\n",
            "303/303 [==============================] - 21s 71ms/step - loss: 0.2393 - mse: 0.1948 - val_loss: 0.3080 - val_mse: 0.2641 - lr: 5.0000e-04\n",
            "Epoch 18/100\n",
            "303/303 [==============================] - 26s 85ms/step - loss: 0.2143 - mse: 0.1702 - val_loss: 0.3018 - val_mse: 0.2579 - lr: 2.5000e-04\n",
            "Epoch 19/100\n",
            "303/303 [==============================] - 20s 67ms/step - loss: 0.2095 - mse: 0.1655 - val_loss: 0.2910 - val_mse: 0.2471 - lr: 2.5000e-04\n",
            "Epoch 20/100\n",
            "303/303 [==============================] - 23s 75ms/step - loss: 0.2029 - mse: 0.1590 - val_loss: 0.2943 - val_mse: 0.2504 - lr: 2.5000e-04\n",
            "Epoch 21/100\n",
            "303/303 [==============================] - 21s 68ms/step - loss: 0.2015 - mse: 0.1577 - val_loss: 0.2926 - val_mse: 0.2486 - lr: 2.5000e-04\n",
            "Epoch 22/100\n",
            "303/303 [==============================] - 22s 71ms/step - loss: 0.1981 - mse: 0.1543 - val_loss: 0.2852 - val_mse: 0.2420 - lr: 2.5000e-04\n",
            "Epoch 23/100\n",
            "303/303 [==============================] - 20s 68ms/step - loss: 0.1953 - mse: 0.1517 - val_loss: 0.2973 - val_mse: 0.2538 - lr: 2.5000e-04\n",
            "Epoch 24/100\n",
            "303/303 [==============================] - 22s 72ms/step - loss: 0.1939 - mse: 0.1505 - val_loss: 0.2988 - val_mse: 0.2553 - lr: 2.5000e-04\n",
            "Epoch 25/100\n",
            "303/303 [==============================] - 20s 68ms/step - loss: 0.1906 - mse: 0.1471 - val_loss: 0.2963 - val_mse: 0.2530 - lr: 2.5000e-04\n",
            "Epoch 26/100\n",
            "303/303 [==============================] - 22s 72ms/step - loss: 0.1868 - mse: 0.1434 - val_loss: 0.2871 - val_mse: 0.2438 - lr: 2.5000e-04\n",
            "Epoch 27/100\n",
            "303/303 [==============================] - 21s 68ms/step - loss: 0.1874 - mse: 0.1439 - val_loss: 0.2876 - val_mse: 0.2443 - lr: 2.5000e-04\n",
            "Epoch 28/100\n",
            "303/303 [==============================] - 22s 71ms/step - loss: 0.1698 - mse: 0.1264 - val_loss: 0.2960 - val_mse: 0.2525 - lr: 1.2500e-04\n",
            "Epoch 29/100\n",
            "303/303 [==============================] - 21s 68ms/step - loss: 0.1646 - mse: 0.1212 - val_loss: 0.2930 - val_mse: 0.2496 - lr: 1.2500e-04\n",
            "Epoch 30/100\n",
            "303/303 [==============================] - 22s 73ms/step - loss: 0.1628 - mse: 0.1194 - val_loss: 0.2952 - val_mse: 0.2518 - lr: 1.2500e-04\n",
            "Epoch 31/100\n",
            "303/303 [==============================] - 22s 72ms/step - loss: 0.1618 - mse: 0.1185 - val_loss: 0.2970 - val_mse: 0.2538 - lr: 1.2500e-04\n",
            "Epoch 32/100\n",
            "303/303 [==============================] - 21s 69ms/step - loss: 0.1590 - mse: 0.1157 - val_loss: 0.3029 - val_mse: 0.2597 - lr: 1.2500e-04\n",
            "Epoch 33/100\n",
            "303/303 [==============================] - 22s 73ms/step - loss: 0.1504 - mse: 0.1071 - val_loss: 0.2930 - val_mse: 0.2497 - lr: 6.2500e-05\n",
            "Epoch 34/100\n",
            "303/303 [==============================] - 21s 68ms/step - loss: 0.1483 - mse: 0.1051 - val_loss: 0.2932 - val_mse: 0.2501 - lr: 6.2500e-05\n",
            "Epoch 35/100\n",
            "303/303 [==============================] - 22s 73ms/step - loss: 0.1471 - mse: 0.1038 - val_loss: 0.2996 - val_mse: 0.2564 - lr: 6.2500e-05\n",
            "Epoch 36/100\n",
            "303/303 [==============================] - 21s 68ms/step - loss: 0.1461 - mse: 0.1029 - val_loss: 0.2987 - val_mse: 0.2555 - lr: 6.2500e-05\n",
            "Epoch 37/100\n",
            "303/303 [==============================] - 22s 72ms/step - loss: 0.1450 - mse: 0.1019 - val_loss: 0.2950 - val_mse: 0.2518 - lr: 6.2500e-05\n",
            "101/101 [==============================] - 1s 13ms/step - loss: 0.2912 - mse: 0.2480\n",
            "The MSE value is:  0.29120928049087524\n",
            "The RMSE value is:  0.24796579778194427\n"
          ]
        }
      ]
    },
    {
      "cell_type": "markdown",
      "source": [
        "Method2: Dropout regularization"
      ],
      "metadata": {
        "id": "QBV_Em3g-2Et"
      }
    },
    {
      "cell_type": "code",
      "source": [
        "tf.random.set_seed(42)\n",
        "\n",
        "model = tf.keras.Sequential()\n",
        "model.add(tf.keras.layers.Flatten(input_shape=input_shape))\n",
        "\n",
        "for _ in range(hl) :\n",
        "  model.add(tf.keras.layers.Dropout(rate=0.05))\n",
        "  model.add(tf.keras.layers.Dense(nr, kernel_initializer=\"he_normal\", activation=\"relu\"))\n",
        "\n",
        "model.add(tf.keras.layers.Dropout(rate=0.05))\n",
        "model.add(tf.keras.layers.Dense(1, activation='linear'))\n",
        "\n",
        "optimizer = RMSprop(learning_rate = lr)\n",
        "model.compile(loss=\"mse\", optimizer=optimizer, metrics=[\"mse\"])\n",
        "history = model.fit(X_train, y_train, epochs=100,\n",
        "                    validation_data=(X_valid, y_valid),\n",
        "                    callbacks=[early_stopping_cb, model_checkpoint_cb, lr_scheduler])\n",
        "\n",
        "mse_test, rmse_test = model.evaluate(X_test, y_test)\n",
        "print('The MSE value is: ', mse_test)\n",
        "print('The RMSE value is: ', rmse_test)"
      ],
      "metadata": {
        "colab": {
          "base_uri": "https://localhost:8080/"
        },
        "id": "3LC_Oo6n_AOi",
        "outputId": "ebee7bdd-1d2e-4989-8478-2c35a224d8ce"
      },
      "execution_count": 42,
      "outputs": [
        {
          "output_type": "stream",
          "name": "stdout",
          "text": [
            "Epoch 1/100\n",
            "303/303 [==============================] - 22s 69ms/step - loss: 0.6460 - mse: 0.6460 - val_loss: 0.4277 - val_mse: 0.4277 - lr: 0.0010\n",
            "Epoch 2/100\n",
            "303/303 [==============================] - 20s 65ms/step - loss: 0.4098 - mse: 0.4098 - val_loss: 0.3267 - val_mse: 0.3267 - lr: 0.0010\n",
            "Epoch 3/100\n",
            "303/303 [==============================] - 21s 68ms/step - loss: 0.3641 - mse: 0.3641 - val_loss: 0.3086 - val_mse: 0.3086 - lr: 0.0010\n",
            "Epoch 4/100\n",
            "303/303 [==============================] - 20s 65ms/step - loss: 0.3402 - mse: 0.3402 - val_loss: 0.3440 - val_mse: 0.3440 - lr: 0.0010\n",
            "Epoch 5/100\n",
            "303/303 [==============================] - 21s 71ms/step - loss: 0.3178 - mse: 0.3178 - val_loss: 0.3379 - val_mse: 0.3379 - lr: 0.0010\n",
            "Epoch 6/100\n",
            "303/303 [==============================] - 20s 65ms/step - loss: 0.3017 - mse: 0.3017 - val_loss: 0.3456 - val_mse: 0.3456 - lr: 0.0010\n",
            "Epoch 7/100\n",
            "303/303 [==============================] - 20s 66ms/step - loss: 0.2865 - mse: 0.2865 - val_loss: 0.3005 - val_mse: 0.3005 - lr: 0.0010\n",
            "Epoch 8/100\n",
            "303/303 [==============================] - 20s 67ms/step - loss: 0.2777 - mse: 0.2777 - val_loss: 0.3440 - val_mse: 0.3440 - lr: 0.0010\n",
            "Epoch 9/100\n",
            "303/303 [==============================] - 19s 62ms/step - loss: 0.2629 - mse: 0.2629 - val_loss: 0.3046 - val_mse: 0.3046 - lr: 0.0010\n",
            "Epoch 10/100\n",
            "303/303 [==============================] - 20s 67ms/step - loss: 0.2449 - mse: 0.2449 - val_loss: 0.3161 - val_mse: 0.3161 - lr: 0.0010\n",
            "Epoch 11/100\n",
            "303/303 [==============================] - 19s 62ms/step - loss: 0.2431 - mse: 0.2431 - val_loss: 0.3141 - val_mse: 0.3141 - lr: 0.0010\n",
            "Epoch 12/100\n",
            "303/303 [==============================] - 21s 69ms/step - loss: 0.2332 - mse: 0.2332 - val_loss: 0.3008 - val_mse: 0.3008 - lr: 0.0010\n",
            "Epoch 13/100\n",
            "303/303 [==============================] - 19s 62ms/step - loss: 0.1979 - mse: 0.1979 - val_loss: 0.2753 - val_mse: 0.2753 - lr: 5.0000e-04\n",
            "Epoch 14/100\n",
            "303/303 [==============================] - 20s 67ms/step - loss: 0.1830 - mse: 0.1830 - val_loss: 0.2599 - val_mse: 0.2599 - lr: 5.0000e-04\n",
            "Epoch 15/100\n",
            "303/303 [==============================] - 19s 62ms/step - loss: 0.1780 - mse: 0.1780 - val_loss: 0.2906 - val_mse: 0.2906 - lr: 5.0000e-04\n",
            "Epoch 16/100\n",
            "303/303 [==============================] - 19s 63ms/step - loss: 0.1774 - mse: 0.1774 - val_loss: 0.2721 - val_mse: 0.2721 - lr: 5.0000e-04\n",
            "Epoch 17/100\n",
            "303/303 [==============================] - 22s 71ms/step - loss: 0.1761 - mse: 0.1761 - val_loss: 0.2540 - val_mse: 0.2540 - lr: 5.0000e-04\n",
            "Epoch 18/100\n",
            "303/303 [==============================] - 19s 64ms/step - loss: 0.1635 - mse: 0.1635 - val_loss: 0.2616 - val_mse: 0.2616 - lr: 5.0000e-04\n",
            "Epoch 19/100\n",
            "303/303 [==============================] - 21s 69ms/step - loss: 0.1716 - mse: 0.1716 - val_loss: 0.2667 - val_mse: 0.2667 - lr: 5.0000e-04\n",
            "Epoch 20/100\n",
            "303/303 [==============================] - 20s 65ms/step - loss: 0.1647 - mse: 0.1647 - val_loss: 0.2561 - val_mse: 0.2561 - lr: 5.0000e-04\n",
            "Epoch 21/100\n",
            "303/303 [==============================] - 21s 70ms/step - loss: 0.1619 - mse: 0.1619 - val_loss: 0.2680 - val_mse: 0.2680 - lr: 5.0000e-04\n",
            "Epoch 22/100\n",
            "303/303 [==============================] - 20s 67ms/step - loss: 0.1571 - mse: 0.1571 - val_loss: 0.2469 - val_mse: 0.2469 - lr: 5.0000e-04\n",
            "Epoch 23/100\n",
            "303/303 [==============================] - 20s 67ms/step - loss: 0.1542 - mse: 0.1542 - val_loss: 0.2647 - val_mse: 0.2647 - lr: 5.0000e-04\n",
            "Epoch 24/100\n",
            "303/303 [==============================] - 19s 62ms/step - loss: 0.1587 - mse: 0.1587 - val_loss: 0.2758 - val_mse: 0.2758 - lr: 5.0000e-04\n",
            "Epoch 25/100\n",
            "303/303 [==============================] - 20s 67ms/step - loss: 0.1494 - mse: 0.1494 - val_loss: 0.2672 - val_mse: 0.2672 - lr: 5.0000e-04\n",
            "Epoch 26/100\n",
            "303/303 [==============================] - 20s 64ms/step - loss: 0.1466 - mse: 0.1466 - val_loss: 0.2629 - val_mse: 0.2629 - lr: 5.0000e-04\n",
            "Epoch 27/100\n",
            "303/303 [==============================] - 19s 64ms/step - loss: 0.1469 - mse: 0.1469 - val_loss: 0.2607 - val_mse: 0.2607 - lr: 5.0000e-04\n",
            "Epoch 28/100\n",
            "303/303 [==============================] - 21s 71ms/step - loss: 0.1340 - mse: 0.1340 - val_loss: 0.2615 - val_mse: 0.2615 - lr: 2.5000e-04\n",
            "Epoch 29/100\n",
            "303/303 [==============================] - 20s 66ms/step - loss: 0.1202 - mse: 0.1202 - val_loss: 0.2693 - val_mse: 0.2693 - lr: 2.5000e-04\n",
            "Epoch 30/100\n",
            "303/303 [==============================] - 21s 71ms/step - loss: 0.1248 - mse: 0.1248 - val_loss: 0.2641 - val_mse: 0.2641 - lr: 2.5000e-04\n",
            "Epoch 31/100\n",
            "303/303 [==============================] - 20s 65ms/step - loss: 0.1233 - mse: 0.1233 - val_loss: 0.2694 - val_mse: 0.2694 - lr: 2.5000e-04\n",
            "Epoch 32/100\n",
            "303/303 [==============================] - 22s 71ms/step - loss: 0.1197 - mse: 0.1197 - val_loss: 0.2683 - val_mse: 0.2683 - lr: 2.5000e-04\n",
            "Epoch 33/100\n",
            "303/303 [==============================] - 20s 66ms/step - loss: 0.1113 - mse: 0.1113 - val_loss: 0.2641 - val_mse: 0.2641 - lr: 1.2500e-04\n",
            "Epoch 34/100\n",
            "303/303 [==============================] - 21s 70ms/step - loss: 0.1115 - mse: 0.1115 - val_loss: 0.2645 - val_mse: 0.2645 - lr: 1.2500e-04\n",
            "Epoch 35/100\n",
            "303/303 [==============================] - 20s 67ms/step - loss: 0.1163 - mse: 0.1163 - val_loss: 0.2692 - val_mse: 0.2692 - lr: 1.2500e-04\n",
            "Epoch 36/100\n",
            "303/303 [==============================] - 21s 71ms/step - loss: 0.1180 - mse: 0.1180 - val_loss: 0.2649 - val_mse: 0.2649 - lr: 1.2500e-04\n",
            "Epoch 37/100\n",
            "303/303 [==============================] - 20s 67ms/step - loss: 0.1091 - mse: 0.1091 - val_loss: 0.2656 - val_mse: 0.2656 - lr: 1.2500e-04\n",
            "101/101 [==============================] - 1s 12ms/step - loss: 0.2481 - mse: 0.2481\n",
            "The MSE value is:  0.24809902906417847\n",
            "The RMSE value is:  0.24809902906417847\n"
          ]
        }
      ]
    },
    {
      "cell_type": "markdown",
      "source": [
        "Method3: Alpha dropout"
      ],
      "metadata": {
        "id": "fiDyvdxGPgD9"
      }
    },
    {
      "cell_type": "code",
      "source": [
        "tf.random.set_seed(42)\n",
        "\n",
        "model = tf.keras.Sequential()\n",
        "model.add(tf.keras.layers.Flatten(input_shape=input_shape))\n",
        "\n",
        "for _ in range(hl) :\n",
        "  model.add(tf.keras.layers.Dense(nr, kernel_initializer=\"he_normal\", activation=\"relu\"))\n",
        "\n",
        "model.add(tf.keras.layers.AlphaDropout(rate=0.05))\n",
        "model.add(tf.keras.layers.Dense(1, activation='linear'))\n",
        "\n",
        "optimizer = RMSprop(learning_rate = lr)\n",
        "model.compile(loss=\"mse\", optimizer=optimizer, metrics=[\"mse\"])\n",
        "history = model.fit(X_train, y_train, epochs=100,\n",
        "                    validation_data=(X_valid, y_valid),\n",
        "                    callbacks=[early_stopping_cb, model_checkpoint_cb, lr_scheduler])\n",
        "\n",
        "mse_test, rmse_test = model.evaluate(X_test, y_test)\n",
        "print('The MSE value is: ', mse_test)\n",
        "print('The RMSE value is: ', rmse_test)"
      ],
      "metadata": {
        "colab": {
          "base_uri": "https://localhost:8080/"
        },
        "id": "DaoV_UlxUoQJ",
        "outputId": "78ae1291-0967-419d-a2c1-7e7ea224303d"
      },
      "execution_count": 43,
      "outputs": [
        {
          "output_type": "stream",
          "name": "stdout",
          "text": [
            "Epoch 1/100\n",
            "303/303 [==============================] - 21s 65ms/step - loss: 0.8846 - mse: 0.8846 - val_loss: 0.8797 - val_mse: 0.8797 - lr: 0.0010\n",
            "Epoch 2/100\n",
            "303/303 [==============================] - 19s 62ms/step - loss: 0.4055 - mse: 0.4055 - val_loss: 0.3401 - val_mse: 0.3401 - lr: 0.0010\n",
            "Epoch 3/100\n",
            "303/303 [==============================] - 21s 69ms/step - loss: 0.3289 - mse: 0.3289 - val_loss: 0.2979 - val_mse: 0.2979 - lr: 0.0010\n",
            "Epoch 4/100\n",
            "303/303 [==============================] - 19s 62ms/step - loss: 0.2927 - mse: 0.2927 - val_loss: 0.3075 - val_mse: 0.3075 - lr: 0.0010\n",
            "Epoch 5/100\n",
            "303/303 [==============================] - 19s 62ms/step - loss: 0.2640 - mse: 0.2640 - val_loss: 0.3089 - val_mse: 0.3089 - lr: 0.0010\n",
            "Epoch 6/100\n",
            "303/303 [==============================] - 20s 66ms/step - loss: 0.2435 - mse: 0.2435 - val_loss: 0.3791 - val_mse: 0.3791 - lr: 0.0010\n",
            "Epoch 7/100\n",
            "303/303 [==============================] - 19s 62ms/step - loss: 0.2222 - mse: 0.2222 - val_loss: 0.3335 - val_mse: 0.3335 - lr: 0.0010\n",
            "Epoch 8/100\n",
            "303/303 [==============================] - 21s 69ms/step - loss: 0.2089 - mse: 0.2089 - val_loss: 0.4182 - val_mse: 0.4182 - lr: 0.0010\n",
            "Epoch 9/100\n",
            "303/303 [==============================] - 19s 62ms/step - loss: 0.1599 - mse: 0.1599 - val_loss: 0.2720 - val_mse: 0.2720 - lr: 5.0000e-04\n",
            "Epoch 10/100\n",
            "303/303 [==============================] - 19s 63ms/step - loss: 0.1415 - mse: 0.1415 - val_loss: 0.2881 - val_mse: 0.2881 - lr: 5.0000e-04\n",
            "Epoch 11/100\n",
            "303/303 [==============================] - 20s 67ms/step - loss: 0.1351 - mse: 0.1351 - val_loss: 0.3565 - val_mse: 0.3565 - lr: 5.0000e-04\n",
            "Epoch 12/100\n",
            "303/303 [==============================] - 19s 61ms/step - loss: 0.1272 - mse: 0.1272 - val_loss: 0.2907 - val_mse: 0.2907 - lr: 5.0000e-04\n",
            "Epoch 13/100\n",
            "303/303 [==============================] - 19s 63ms/step - loss: 0.1212 - mse: 0.1212 - val_loss: 0.2662 - val_mse: 0.2662 - lr: 5.0000e-04\n",
            "Epoch 14/100\n",
            "303/303 [==============================] - 19s 61ms/step - loss: 0.1149 - mse: 0.1149 - val_loss: 0.2800 - val_mse: 0.2800 - lr: 5.0000e-04\n",
            "Epoch 15/100\n",
            "303/303 [==============================] - 18s 61ms/step - loss: 0.1080 - mse: 0.1080 - val_loss: 0.3091 - val_mse: 0.3091 - lr: 5.0000e-04\n",
            "Epoch 16/100\n",
            "303/303 [==============================] - 21s 70ms/step - loss: 0.1054 - mse: 0.1054 - val_loss: 0.2668 - val_mse: 0.2668 - lr: 5.0000e-04\n",
            "Epoch 17/100\n",
            "303/303 [==============================] - 19s 62ms/step - loss: 0.1028 - mse: 0.1028 - val_loss: 0.2646 - val_mse: 0.2646 - lr: 5.0000e-04\n",
            "Epoch 18/100\n",
            "303/303 [==============================] - 20s 66ms/step - loss: 0.0981 - mse: 0.0981 - val_loss: 0.2728 - val_mse: 0.2728 - lr: 5.0000e-04\n",
            "Epoch 19/100\n",
            "303/303 [==============================] - 19s 61ms/step - loss: 0.0949 - mse: 0.0949 - val_loss: 0.2930 - val_mse: 0.2930 - lr: 5.0000e-04\n",
            "Epoch 20/100\n",
            "303/303 [==============================] - 18s 59ms/step - loss: 0.0940 - mse: 0.0940 - val_loss: 0.2748 - val_mse: 0.2748 - lr: 5.0000e-04\n",
            "Epoch 21/100\n",
            "303/303 [==============================] - 20s 67ms/step - loss: 0.0904 - mse: 0.0904 - val_loss: 0.2738 - val_mse: 0.2738 - lr: 5.0000e-04\n",
            "Epoch 22/100\n",
            "303/303 [==============================] - 18s 60ms/step - loss: 0.0891 - mse: 0.0891 - val_loss: 0.2733 - val_mse: 0.2733 - lr: 5.0000e-04\n",
            "Epoch 23/100\n",
            "303/303 [==============================] - 18s 61ms/step - loss: 0.0726 - mse: 0.0726 - val_loss: 0.2737 - val_mse: 0.2737 - lr: 2.5000e-04\n",
            "Epoch 24/100\n",
            "303/303 [==============================] - 19s 64ms/step - loss: 0.0685 - mse: 0.0685 - val_loss: 0.2848 - val_mse: 0.2848 - lr: 2.5000e-04\n",
            "Epoch 25/100\n",
            "303/303 [==============================] - 18s 60ms/step - loss: 0.0655 - mse: 0.0655 - val_loss: 0.2761 - val_mse: 0.2761 - lr: 2.5000e-04\n",
            "Epoch 26/100\n",
            "303/303 [==============================] - 18s 60ms/step - loss: 0.0631 - mse: 0.0631 - val_loss: 0.2698 - val_mse: 0.2698 - lr: 2.5000e-04\n",
            "Epoch 27/100\n",
            "303/303 [==============================] - 20s 66ms/step - loss: 0.0627 - mse: 0.0627 - val_loss: 0.2773 - val_mse: 0.2773 - lr: 2.5000e-04\n",
            "Epoch 28/100\n",
            "303/303 [==============================] - 18s 60ms/step - loss: 0.0562 - mse: 0.0562 - val_loss: 0.2854 - val_mse: 0.2854 - lr: 1.2500e-04\n",
            "Epoch 29/100\n",
            "303/303 [==============================] - 18s 60ms/step - loss: 0.0540 - mse: 0.0540 - val_loss: 0.2774 - val_mse: 0.2774 - lr: 1.2500e-04\n",
            "Epoch 30/100\n",
            "303/303 [==============================] - 19s 64ms/step - loss: 0.0530 - mse: 0.0530 - val_loss: 0.2786 - val_mse: 0.2786 - lr: 1.2500e-04\n",
            "Epoch 31/100\n",
            "303/303 [==============================] - 18s 60ms/step - loss: 0.0526 - mse: 0.0526 - val_loss: 0.2744 - val_mse: 0.2744 - lr: 1.2500e-04\n",
            "Epoch 32/100\n",
            "303/303 [==============================] - 18s 60ms/step - loss: 0.0520 - mse: 0.0520 - val_loss: 0.2849 - val_mse: 0.2849 - lr: 1.2500e-04\n",
            "101/101 [==============================] - 1s 14ms/step - loss: 0.2536 - mse: 0.2536\n",
            "The MSE value is:  0.25358638167381287\n",
            "The RMSE value is:  0.25358638167381287\n"
          ]
        }
      ]
    },
    {
      "cell_type": "markdown",
      "source": [
        "Method4: Max-Norm regulrization"
      ],
      "metadata": {
        "id": "05LovWVpM3eu"
      }
    },
    {
      "cell_type": "code",
      "source": [
        "tf.random.set_seed(42)\n",
        "\n",
        "model = tf.keras.Sequential()\n",
        "model.add(tf.keras.layers.Flatten(input_shape=input_shape))\n",
        "\n",
        "for _ in range(hl) :\n",
        "  model.add(tf.keras.layers.Dense(nr, kernel_initializer=\"he_normal\", activation=\"relu\", kernel_constraint=tf.keras.constraints.max_norm(3)))\n",
        "\n",
        "model.add(tf.keras.layers.AlphaDropout(rate=0.05))\n",
        "model.add(tf.keras.layers.Dense(1, activation='linear'))\n",
        "\n",
        "optimizer = RMSprop(learning_rate = lr)\n",
        "model.compile(loss=\"mse\", optimizer=optimizer, metrics=[\"mse\"])\n",
        "history = model.fit(X_train, y_train, epochs=100,\n",
        "                    validation_data=(X_valid, y_valid),\n",
        "                    callbacks=[early_stopping_cb, model_checkpoint_cb, lr_scheduler])\n",
        "\n",
        "mse_test, rmse_test = model.evaluate(X_test, y_test)\n",
        "print('The MSE value is: ', mse_test)\n",
        "print('The RMSE value is: ', rmse_test)"
      ],
      "metadata": {
        "colab": {
          "base_uri": "https://localhost:8080/"
        },
        "id": "0Ln0hHZ9ND7A",
        "outputId": "d2e6dd91-4f67-419b-b2a5-bbcd039beda4"
      },
      "execution_count": 48,
      "outputs": [
        {
          "output_type": "stream",
          "name": "stdout",
          "text": [
            "Epoch 1/100\n",
            "303/303 [==============================] - 26s 80ms/step - loss: 0.7426 - mse: 0.7426 - val_loss: 0.7508 - val_mse: 0.7508 - lr: 0.0010\n",
            "Epoch 2/100\n",
            "303/303 [==============================] - 23s 76ms/step - loss: 0.3974 - mse: 0.3974 - val_loss: 0.3386 - val_mse: 0.3386 - lr: 0.0010\n",
            "Epoch 3/100\n",
            "303/303 [==============================] - 22s 71ms/step - loss: 0.3273 - mse: 0.3273 - val_loss: 0.2936 - val_mse: 0.2936 - lr: 0.0010\n",
            "Epoch 4/100\n",
            "303/303 [==============================] - 23s 76ms/step - loss: 0.2935 - mse: 0.2935 - val_loss: 0.3159 - val_mse: 0.3159 - lr: 0.0010\n",
            "Epoch 5/100\n",
            "303/303 [==============================] - 24s 80ms/step - loss: 0.2649 - mse: 0.2649 - val_loss: 0.3104 - val_mse: 0.3104 - lr: 0.0010\n",
            "Epoch 6/100\n",
            "303/303 [==============================] - 22s 72ms/step - loss: 0.2476 - mse: 0.2476 - val_loss: 0.3838 - val_mse: 0.3838 - lr: 0.0010\n",
            "Epoch 7/100\n",
            "303/303 [==============================] - 23s 75ms/step - loss: 0.2234 - mse: 0.2234 - val_loss: 0.3579 - val_mse: 0.3579 - lr: 0.0010\n",
            "Epoch 8/100\n",
            "303/303 [==============================] - 23s 78ms/step - loss: 0.2105 - mse: 0.2105 - val_loss: 0.3830 - val_mse: 0.3830 - lr: 0.0010\n",
            "Epoch 9/100\n",
            "303/303 [==============================] - 22s 73ms/step - loss: 0.1585 - mse: 0.1585 - val_loss: 0.2654 - val_mse: 0.2654 - lr: 5.0000e-04\n",
            "Epoch 10/100\n",
            "303/303 [==============================] - 24s 78ms/step - loss: 0.1431 - mse: 0.1431 - val_loss: 0.2847 - val_mse: 0.2847 - lr: 5.0000e-04\n",
            "Epoch 11/100\n",
            "303/303 [==============================] - 23s 77ms/step - loss: 0.1348 - mse: 0.1348 - val_loss: 0.3458 - val_mse: 0.3458 - lr: 5.0000e-04\n",
            "Epoch 12/100\n",
            "303/303 [==============================] - 22s 73ms/step - loss: 0.1272 - mse: 0.1272 - val_loss: 0.2864 - val_mse: 0.2864 - lr: 5.0000e-04\n",
            "Epoch 13/100\n",
            "303/303 [==============================] - 23s 76ms/step - loss: 0.1223 - mse: 0.1223 - val_loss: 0.2648 - val_mse: 0.2648 - lr: 5.0000e-04\n",
            "Epoch 14/100\n",
            "303/303 [==============================] - 22s 72ms/step - loss: 0.1153 - mse: 0.1153 - val_loss: 0.2884 - val_mse: 0.2884 - lr: 5.0000e-04\n",
            "Epoch 15/100\n",
            "303/303 [==============================] - 23s 75ms/step - loss: 0.1094 - mse: 0.1094 - val_loss: 0.3056 - val_mse: 0.3056 - lr: 5.0000e-04\n",
            "Epoch 16/100\n",
            "303/303 [==============================] - 24s 78ms/step - loss: 0.1045 - mse: 0.1045 - val_loss: 0.2739 - val_mse: 0.2739 - lr: 5.0000e-04\n",
            "Epoch 17/100\n",
            "303/303 [==============================] - 22s 71ms/step - loss: 0.1025 - mse: 0.1025 - val_loss: 0.2735 - val_mse: 0.2735 - lr: 5.0000e-04\n",
            "Epoch 18/100\n",
            "303/303 [==============================] - 23s 75ms/step - loss: 0.0980 - mse: 0.0980 - val_loss: 0.2649 - val_mse: 0.2649 - lr: 5.0000e-04\n",
            "Epoch 19/100\n",
            "303/303 [==============================] - 22s 74ms/step - loss: 0.0814 - mse: 0.0814 - val_loss: 0.2731 - val_mse: 0.2731 - lr: 2.5000e-04\n",
            "Epoch 20/100\n",
            "303/303 [==============================] - 23s 74ms/step - loss: 0.0748 - mse: 0.0748 - val_loss: 0.2915 - val_mse: 0.2915 - lr: 2.5000e-04\n",
            "Epoch 21/100\n",
            "303/303 [==============================] - 24s 78ms/step - loss: 0.0721 - mse: 0.0721 - val_loss: 0.2730 - val_mse: 0.2730 - lr: 2.5000e-04\n",
            "Epoch 22/100\n",
            "303/303 [==============================] - 27s 89ms/step - loss: 0.0710 - mse: 0.0710 - val_loss: 0.2690 - val_mse: 0.2690 - lr: 2.5000e-04\n",
            "Epoch 23/100\n",
            "303/303 [==============================] - 23s 77ms/step - loss: 0.0691 - mse: 0.0691 - val_loss: 0.2786 - val_mse: 0.2786 - lr: 2.5000e-04\n",
            "Epoch 24/100\n",
            "303/303 [==============================] - 24s 79ms/step - loss: 0.0612 - mse: 0.0612 - val_loss: 0.2791 - val_mse: 0.2791 - lr: 1.2500e-04\n",
            "Epoch 25/100\n",
            "303/303 [==============================] - 24s 78ms/step - loss: 0.0591 - mse: 0.0591 - val_loss: 0.2808 - val_mse: 0.2808 - lr: 1.2500e-04\n",
            "Epoch 26/100\n",
            "303/303 [==============================] - 22s 74ms/step - loss: 0.0563 - mse: 0.0563 - val_loss: 0.2755 - val_mse: 0.2755 - lr: 1.2500e-04\n",
            "Epoch 27/100\n",
            "303/303 [==============================] - 23s 77ms/step - loss: 0.0572 - mse: 0.0572 - val_loss: 0.2766 - val_mse: 0.2766 - lr: 1.2500e-04\n",
            "Epoch 28/100\n",
            "303/303 [==============================] - 24s 79ms/step - loss: 0.0563 - mse: 0.0563 - val_loss: 0.2790 - val_mse: 0.2790 - lr: 1.2500e-04\n",
            "101/101 [==============================] - 1s 12ms/step - loss: 0.2519 - mse: 0.2519\n",
            "The MSE value is:  0.25191572308540344\n",
            "The RMSE value is:  0.25191572308540344\n"
          ]
        }
      ]
    }
  ]
}